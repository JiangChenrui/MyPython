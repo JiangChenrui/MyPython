{
 "cells": [
  {
   "cell_type": "code",
   "execution_count": 1,
   "metadata": {},
   "outputs": [],
   "source": [
    "# -*- coding:utf-8 -*-\n",
    "import os\n",
    "import time\n",
    "import random\n",
    "import io"
   ]
  },
  {
   "cell_type": "code",
   "execution_count": 2,
   "metadata": {},
   "outputs": [],
   "source": [
    "def printContent():\n",
    "    content = u'北京欢迎你，为你开天辟地。'\n",
    "    while True:\n",
    "        # 清理屏幕上的输出\n",
    "        os.system('clear')\n",
    "        print(content)\n",
    "        # 休眠200ms\n",
    "        time.sleep(0.2)\n",
    "        content = content[1:] + content[0]\n",
    "\n",
    "# printContent()"
   ]
  },
  {
   "cell_type": "code",
   "execution_count": 3,
   "metadata": {},
   "outputs": [
    {
     "output_type": "stream",
     "name": "stdout",
     "text": [
      "Q0IiNZ4rYa\ncLzwT62T0T\ncuzeGGaYxd\n927666Gnao\nhCxWZ9bsoo\nDSwcfp0FX6\nMPQM9haueB\nFKGHTN8Dzo\nt1o07OzubR\nsQOjDUGXAn\n"
     ]
    }
   ],
   "source": [
    "def generate_code(code_len=4):\n",
    "    \"\"\"\n",
    "    生成指定长度的验证码\n",
    "    :param code_len：验证码的长度\n",
    "    :return：由大小写语文字母和数字构成的随机验证码\n",
    "    \"\"\"\n",
    "    all_chars = '0123456789abcdefghijklmnopqrstuvwxyzABCDEFGHIJKLMNOPQRSTUVWXYZ'\n",
    "    last_pos = len(all_chars) - 1\n",
    "    code = ''\n",
    "    for _ in range(code_len):\n",
    "        index = random.randint(0, last_pos)\n",
    "        code += all_chars[index]\n",
    "    return code\n",
    "for _ in range(10):\n",
    "    print(generate_code(10))"
   ]
  },
  {
   "cell_type": "code",
   "execution_count": 4,
   "metadata": {},
   "outputs": [
    {
     "output_type": "execute_result",
     "data": {
      "text/plain": [
       "'txt'"
      ]
     },
     "metadata": {},
     "execution_count": 4
    }
   ],
   "source": [
    "def get_suffix(filename, has_dot=False):\n",
    "    \"\"\"\n",
    "    获取文件名的后缀名\n",
    "    :param filename: 文件名\n",
    "    :param hos_dot: 返回的后缀名是否需要结点\n",
    "    :return: 文件的后缀名\n",
    "    \"\"\"\n",
    "    pos = filename.rfind('.')\n",
    "    if 0 < pos < len(filename) - 1:\n",
    "        index = pos if has_dot else pos + 1\n",
    "        return filename[index:]\n",
    "    else:\n",
    "        return ''\n",
    "get_suffix('test.txt')"
   ]
  },
  {
   "cell_type": "code",
   "execution_count": 5,
   "metadata": {},
   "outputs": [
    {
     "output_type": "execute_result",
     "data": {
      "text/plain": [
       "(958, 345)"
      ]
     },
     "metadata": {},
     "execution_count": 5
    }
   ],
   "source": [
    "def max2(x):\n",
    "    m1, m2 = (x[0], x[1]) if x[0] > x[1] else (x[1], x[0])\n",
    "    for index in range(2, len(x)):\n",
    "        if x[index] > m1:\n",
    "            m2 = m1\n",
    "            m1 = x[index]\n",
    "        elif x[index] > m2:\n",
    "            m2 = x[index]\n",
    "    return m1, m2\n",
    "max2([1, 3, 23, 123, 123, 345, 123,958])            "
   ]
  },
  {
   "cell_type": "code",
   "execution_count": 6,
   "metadata": {},
   "outputs": [],
   "source": [
    "def is_leap_year(year):\n",
    "    \"\"\"\n",
    "    判断指定的年份是不是闰年\n",
    "    \n",
    "    :param year: 年份\n",
    "    :return: 闰年返回True，平年返回False\n",
    "    \"\"\"\n",
    "    return year % 4 == 0 and year % 100 != 0 or year % 400 == 0"
   ]
  },
  {
   "cell_type": "code",
   "execution_count": 7,
   "metadata": {},
   "outputs": [
    {
     "output_type": "stream",
     "name": "stdout",
     "text": [
      "333\n365\n1\n61\n"
     ]
    }
   ],
   "source": [
    "def which_day(year, month, day):\n",
    "    \"\"\"\n",
    "    计算传入的日期是这一天的第几天\n",
    "    \n",
    "    :param year: 年\n",
    "    :param month: 月\n",
    "    :param date: 日\n",
    "    :return: 第几天\n",
    "    \"\"\"\n",
    "    days_of_month = [[31, 28, 31, 30, 31, 30, 31, 31, 30, 31, 30, 31],\n",
    "                     [31, 29, 31, 30, 31, 30, 31, 31, 30, 31, 30, 31]\n",
    "                    ][is_leap_year(year)]\n",
    "    total = 0\n",
    "    for index in range(month - 1):\n",
    "        total += days_of_month[index]\n",
    "    return total + day\n",
    "\n",
    "print(which_day(1980, 11, 28))\n",
    "print(which_day(1981, 12, 31))\n",
    "print(which_day(2018, 1, 1))\n",
    "print(which_day(2016, 3, 1))"
   ]
  },
  {
   "cell_type": "code",
   "execution_count": 8,
   "metadata": {},
   "outputs": [
    {
     "output_type": "stream",
     "name": "stdout",
     "text": [
      "1 \t\n1 \t1 \t\n1 \t2 \t1 \t\n1 \t3 \t3 \t1 \t\n1 \t4 \t6 \t4 \t1 \t\n1 \t5 \t10 \t10 \t5 \t1 \t\n1 \t6 \t15 \t20 \t15 \t6 \t1 \t\n1 \t7 \t21 \t35 \t35 \t21 \t7 \t1 \t\n"
     ]
    }
   ],
   "source": [
    "def printTrangle(num=8):\n",
    "    yh = [[]] * num\n",
    "    for row in range(len(yh)):\n",
    "        yh[row] = [None] * (row + 1)\n",
    "        for col in range(len(yh[row])):\n",
    "            if col == 0 or col == row:\n",
    "                yh[row][col] = 1\n",
    "            else:\n",
    "                yh[row][col] = yh[row-1][col] + yh[row-1][col-1]\n",
    "            print yh[row][col], '\\t',\n",
    "        print \n",
    "\n",
    "printTrangle()"
   ]
  },
  {
   "cell_type": "code",
   "execution_count": 9,
   "metadata": {},
   "outputs": [
    {
     "output_type": "execute_result",
     "data": {
      "text/plain": [
       "1606969864"
      ]
     },
     "metadata": {},
     "execution_count": 9
    }
   ],
   "source": [
    "int(time.time())"
   ]
  },
  {
   "cell_type": "code",
   "execution_count": 10,
   "metadata": {},
   "outputs": [],
   "source": [
    "def f1(arg):\n",
    "    print (\"f1\")\n",
    "    r1 = arg()\n",
    "    print (r1)\n",
    "    print r1 + \"f1\""
   ]
  },
  {
   "cell_type": "code",
   "execution_count": 11,
   "metadata": {},
   "outputs": [
    {
     "output_type": "stream",
     "name": "stdout",
     "text": [
      "f1\nf2\nf2r\nf2rf1\nstart\nNone\n"
     ]
    }
   ],
   "source": [
    "@f1\n",
    "def f2(arg=\"\"):\n",
    "    print (\"f2\")\n",
    "    return arg + \"f2r\"\n",
    "print(\"start\")\n",
    "print(f2)"
   ]
  },
  {
   "cell_type": "code",
   "execution_count": 12,
   "metadata": {},
   "outputs": [],
   "source": [
    "def grep(pattern):\n",
    "    print(\"Looking for %s\" % pattern)\n",
    "    while True:\n",
    "        line = yield\n",
    "        if pattern in line:\n",
    "            print(line)"
   ]
  },
  {
   "cell_type": "code",
   "execution_count": 13,
   "metadata": {},
   "outputs": [
    {
     "output_type": "stream",
     "name": "stdout",
     "text": [
      "Looking for python\n"
     ]
    }
   ],
   "source": [
    "g = grep(\"python\")\n",
    "next(g)"
   ]
  },
  {
   "cell_type": "code",
   "execution_count": 14,
   "metadata": {},
   "outputs": [
    {
     "output_type": "stream",
     "name": "stdout",
     "text": [
      "python generators rock!\n"
     ]
    }
   ],
   "source": [
    "g.send(\"Yeah, but no, but yeah, but no\")\n",
    "g.send(\"A series of tubes\")\n",
    "g.send(\"python generators rock!\")"
   ]
  },
  {
   "cell_type": "code",
   "execution_count": 15,
   "metadata": {},
   "outputs": [
    {
     "output_type": "stream",
     "name": "stdout",
     "text": [
      "start run1 method ~\n",
      "start run2 method ~\n",
      "start run3 method ~\n",
      "end run3 method ~\n",
      "end run2 method ~\n",
      "end run1 method ~\n"
     ]
    },
    {
     "output_type": "execute_result",
     "data": {
      "text/plain": [
       "[<Greenlet at 0x1073ebba8: _run>,\n",
       " <Greenlet at 0x1073ebaa0: _run>,\n",
       " <Greenlet at 0x1073eb998: _run>]"
      ]
     },
     "metadata": {},
     "execution_count": 15
    }
   ],
   "source": [
    "import gevent\n",
    "from gevent import queue\n",
    "\n",
    "def run1():\n",
    "    print('start run1 method ~')\n",
    "    gevent.sleep(2)\n",
    "    print('end run1 method ~')\n",
    "\n",
    "def run2():\n",
    "    print('start run2 method ~')\n",
    "    gevent.sleep(1)\n",
    "    print('end run2 method ~')\n",
    "    \n",
    "def run3():\n",
    "    print('start run3 method ~')\n",
    "    gevent.sleep(0)\n",
    "    print('end run3 method ~')\n",
    "    \n",
    "gevent.joinall([\n",
    "    gevent.spawn(run1),\n",
    "    gevent.spawn(run2),\n",
    "    gevent.spawn(run3)\n",
    "])"
   ]
  },
  {
   "cell_type": "code",
   "execution_count": 16,
   "metadata": {},
   "outputs": [],
   "source": [
    "def worker(n):\n",
    "    while not queue.empty():\n",
    "        task = queue.get()\n",
    "        print \"{} GET {}\".format(n, task)\n",
    "        gevent.sleep(0)\n",
    "    print '{} exit!'.format(n)\n",
    "\n",
    "def boss():\n",
    "    for i in xrange(1, 11):\n",
    "        queue.put_nowait(i)"
   ]
  },
  {
   "cell_type": "code",
   "execution_count": 17,
   "metadata": {},
   "outputs": [
    {
     "output_type": "stream",
     "name": "stdout",
     "text": [
      "tom GET 1\njerry GET 2\nadm GET 3\ntom GET 4\njerry GET 5\nadm GET 6\ntom GET 7\njerry GET 8\nadm GET 9\ntom GET 10\njerry exit!\nadm exit!\ntom exit!\n"
     ]
    },
    {
     "output_type": "execute_result",
     "data": {
      "text/plain": [
       "[<Greenlet at 0x1073eb890: _run>,\n",
       " <Greenlet at 0x1073eb578: _run>,\n",
       " <Greenlet at 0x1073ebcb0: _run>,\n",
       " <Greenlet at 0x1073eb788: _run>]"
      ]
     },
     "metadata": {},
     "execution_count": 17
    }
   ],
   "source": [
    "queue = queue.Queue()\n",
    "gevent.joinall([\n",
    "    gevent.spawn(boss),\n",
    "    gevent.spawn(worker, 'tom'),\n",
    "    gevent.spawn(worker, 'jerry'),\n",
    "    gevent.spawn(worker, 'adm'),\n",
    "])"
   ]
  },
  {
   "cell_type": "code",
   "execution_count": 18,
   "metadata": {},
   "outputs": [
    {
     "output_type": "stream",
     "name": "stdout",
     "text": [
      "1\n2\n2\n"
     ]
    }
   ],
   "source": [
    "def run1():\n",
    "    global count\n",
    "    count += 1\n",
    "    print count\n",
    "    \n",
    "def run2():\n",
    "    global count\n",
    "    count += 1\n",
    "    print count\n",
    "    \n",
    "count = 0\n",
    "gevent.joinall([\n",
    "    gevent.spawn(run1),\n",
    "    gevent.spawn(run2)\n",
    "])\n",
    "print count"
   ]
  },
  {
   "cell_type": "code",
   "execution_count": 19,
   "metadata": {},
   "outputs": [
    {
     "output_type": "stream",
     "name": "stdout",
     "text": [
      "3\n1\n"
     ]
    }
   ],
   "source": [
    "def add(x, y):\n",
    "    return x + y\n",
    "\n",
    "def sub(x, y):\n",
    "    return x - y\n",
    "\n",
    "def apply(func, x, y):\n",
    "    return func(x, y)\n",
    "\n",
    "print apply(add, 2, 1)\n",
    "print apply(sub, 2, 1)"
   ]
  },
  {
   "cell_type": "code",
   "execution_count": 20,
   "metadata": {},
   "outputs": [
    {
     "output_type": "stream",
     "name": "stdout",
     "text": [
      "2\n"
     ]
    }
   ],
   "source": [
    "def outer(func):\n",
    "    def inner():\n",
    "        ret = func()\n",
    "        return ret + 1\n",
    "    return inner\n",
    "\n",
    "def foo():\n",
    "    return 1\n",
    "\n",
    "result = outer(foo)\n",
    "print result()"
   ]
  },
  {
   "cell_type": "code",
   "execution_count": 21,
   "metadata": {},
   "outputs": [
    {
     "output_type": "stream",
     "name": "stdout",
     "text": [
      "2\n"
     ]
    }
   ],
   "source": [
    "def outer(func):\n",
    "    def inner(x):\n",
    "        ret = func(x)\n",
    "        return ret + 1\n",
    "    return inner\n",
    "\n",
    "@outer\n",
    "def foo(x):\n",
    "    return x\n",
    "\n",
    "print foo(1)"
   ]
  },
  {
   "cell_type": "code",
   "execution_count": 22,
   "metadata": {},
   "outputs": [
    {
     "output_type": "stream",
     "name": "stdout",
     "text": [
      "5\n"
     ]
    }
   ],
   "source": [
    "def outer(func):\n",
    "    def inner(*args, **kwargs):\n",
    "        ret = func(*args, **kwargs)\n",
    "        return ret + 1\n",
    "    return inner\n",
    "\n",
    "@outer\n",
    "def foo(a, b):\n",
    "    return a + b\n",
    "\n",
    "print foo(1, b=3)"
   ]
  },
  {
   "cell_type": "code",
   "execution_count": 23,
   "metadata": {},
   "outputs": [
    {
     "output_type": "stream",
     "name": "stdout",
     "text": [
      "func2\n<class '__main__.A'>\n类属性\nfunc1\n<__main__.A object at 0x10738d690>\n"
     ]
    }
   ],
   "source": [
    "class A(object):\n",
    "    num = \"类属性\"\n",
    "    \n",
    "    def func1(self):\n",
    "        print 'func1'\n",
    "        print self\n",
    "        \n",
    "    @classmethod\n",
    "    def func2(cls):\n",
    "        print 'func2'\n",
    "        print cls\n",
    "        print cls.num\n",
    "        cls().func1()\n",
    "\n",
    "        \n",
    "A.func2()"
   ]
  },
  {
   "cell_type": "code",
   "execution_count": 24,
   "metadata": {},
   "outputs": [],
   "source": [
    "from time import sleep\n",
    "\n",
    "class Clock(object):\n",
    "    \"\"\"数字时钟\"\"\"\n",
    "    \n",
    "    def __init__(self, hour=0, minute=0, second=0):\n",
    "        self._hour = hour\n",
    "        self._minute = minute\n",
    "        self._second = second\n",
    "    \n",
    "    def run(self):\n",
    "        self._second += 1\n",
    "        if self._second == 60:\n",
    "            self._second = 0\n",
    "            self._minute += 1\n",
    "            if self._minute == 60:\n",
    "                self._minute = 0\n",
    "                self._hour += 1\n",
    "                if self._hour == 24:\n",
    "                    self._hour = 0\n",
    "    def show(self):\n",
    "        return '%02d:%02d:%02d' % (self._hour, self._minute, self._second)"
   ]
  },
  {
   "cell_type": "code",
   "execution_count": 25,
   "metadata": {},
   "outputs": [],
   "source": [
    "# property装饰器\n",
    "class Person(object):\n",
    "    \n",
    "    __slots__ = ('_name', '_age', '_gender')\n",
    "    \n",
    "    def __init__(self, name, age):\n",
    "        self._name = name\n",
    "        self._age = age\n",
    "    \n",
    "    @property\n",
    "    def age(self):\n",
    "        return self._age\n",
    "    \n",
    "    @property\n",
    "    def age(self, age):\n",
    "        self._age = age\n",
    "        \n",
    "    @age.setter\n",
    "    def age(self, age):\n",
    "        self._age = age\n",
    "    \n",
    "    def play(self):\n",
    "        if self._age <= 16:\n",
    "            print '%s正在玩飞行棋.'  % self._name\n",
    "        else:\n",
    "            print '%s正在玩斗地主.' % self._name"
   ]
  },
  {
   "cell_type": "code",
   "execution_count": 26,
   "metadata": {},
   "outputs": [
    {
     "output_type": "stream",
     "name": "stdout",
     "text": [
      "王大锤正在玩飞行棋.\n王大锤正在玩斗地主.\n白元芳正在玩斗地主.\n"
     ]
    }
   ],
   "source": [
    "person = Person('王大锤', 12)\n",
    "person.play()\n",
    "person.age = 22\n",
    "person.play()\n",
    "person._name = '白元芳'\n",
    "person.play()\n",
    "# person.is_gay = True\n",
    "# print person.is_gay"
   ]
  },
  {
   "source": [
    "## 文件读取\n",
    "使用read全部读取，或者使用`for-in`循环逐行或者使用`readlines`方法将文件按行读取到一个容器中"
   ],
   "cell_type": "markdown",
   "metadata": {}
  },
  {
   "cell_type": "code",
   "execution_count": 27,
   "metadata": {},
   "outputs": [
    {
     "output_type": "error",
     "ename": "IOError",
     "evalue": "[Errno 2] No such file or directory: 'foo.txt'",
     "traceback": [
      "\u001b[0;31m\u001b[0m",
      "\u001b[0;31mIOError\u001b[0mTraceback (most recent call last)",
      "\u001b[0;32m<ipython-input-27-27a8ad2beb3d>\u001b[0m in \u001b[0;36m<module>\u001b[0;34m()\u001b[0m\n\u001b[1;32m      1\u001b[0m \u001b[0;32mimport\u001b[0m \u001b[0mtime\u001b[0m\u001b[0;34m\u001b[0m\u001b[0m\n\u001b[1;32m      2\u001b[0m \u001b[0;34m\u001b[0m\u001b[0m\n\u001b[0;32m----> 3\u001b[0;31m \u001b[0mf\u001b[0m \u001b[0;34m=\u001b[0m \u001b[0mopen\u001b[0m\u001b[0;34m(\u001b[0m\u001b[0;34m'foo.txt'\u001b[0m\u001b[0;34m,\u001b[0m \u001b[0;34m'r'\u001b[0m\u001b[0;34m)\u001b[0m\u001b[0;34m\u001b[0m\u001b[0m\n\u001b[0m\u001b[1;32m      4\u001b[0m \u001b[0;32mprint\u001b[0m\u001b[0;34m(\u001b[0m\u001b[0mf\u001b[0m\u001b[0;34m.\u001b[0m\u001b[0mread\u001b[0m\u001b[0;34m(\u001b[0m\u001b[0;34m)\u001b[0m\u001b[0;34m)\u001b[0m\u001b[0;34m\u001b[0m\u001b[0m\n\u001b[1;32m      5\u001b[0m \u001b[0mf\u001b[0m\u001b[0;34m.\u001b[0m\u001b[0mclose\u001b[0m\u001b[0;34m(\u001b[0m\u001b[0;34m)\u001b[0m\u001b[0;34m\u001b[0m\u001b[0m\n",
      "\u001b[0;31mIOError\u001b[0m: [Errno 2] No such file or directory: 'foo.txt'"
     ]
    }
   ],
   "source": [
    "import time\n",
    "\n",
    "f = open('foo.txt', 'r')\n",
    "print(f.read())\n",
    "f.close()"
   ]
  },
  {
   "cell_type": "code",
   "execution_count": 4,
   "metadata": {},
   "outputs": [
    {
     "output_type": "stream",
     "name": "stdout",
     "text": [
      "# 博乐工作日志\n\n\n\n## 2020-11\n\n\n\n### 2020-11-16\n\n\n\n入职培训，熟悉工作环境，安装开发软件vscode，熟悉Crash Frency，完成新手教程\n\n\n\n### 2020-11-17\n['# \\xe5\\x8d\\x9a\\xe4\\xb9\\x90\\xe5\\xb7\\xa5\\xe4\\xbd\\x9c\\xe6\\x97\\xa5\\xe5\\xbf\\x97\\n', '\\n', '## 2020-11\\n', '\\n', '### 2020-11-16\\n', '\\n', '\\xe5\\x85\\xa5\\xe8\\x81\\x8c\\xe5\\x9f\\xb9\\xe8\\xae\\xad\\xef\\xbc\\x8c\\xe7\\x86\\x9f\\xe6\\x82\\x89\\xe5\\xb7\\xa5\\xe4\\xbd\\x9c\\xe7\\x8e\\xaf\\xe5\\xa2\\x83\\xef\\xbc\\x8c\\xe5\\xae\\x89\\xe8\\xa3\\x85\\xe5\\xbc\\x80\\xe5\\x8f\\x91\\xe8\\xbd\\xaf\\xe4\\xbb\\xb6vscode\\xef\\xbc\\x8c\\xe7\\x86\\x9f\\xe6\\x82\\x89Crash Frency\\xef\\xbc\\x8c\\xe5\\xae\\x8c\\xe6\\x88\\x90\\xe6\\x96\\xb0\\xe6\\x89\\x8b\\xe6\\x95\\x99\\xe7\\xa8\\x8b\\n', '\\n', '### 2020-11-17']\n"
     ]
    }
   ],
   "source": [
    "with open('foo.txt', mode='r') as f:\n",
    "    for line in f:\n",
    "        print line\n",
    "with open('foo.txt', mode='r') as f:\n",
    "    lines = f.readlines()\n",
    "    print(lines)"
   ]
  },
  {
   "cell_type": "code",
   "execution_count": 5,
   "metadata": {},
   "outputs": [
    {
     "output_type": "stream",
     "name": "stdout",
     "text": [
      "{\"qq\": 957658, \"cars\": [{\"brand\": \"BYD\", \"max_speed\": 180}, {\"brand\": \"Audi\", \"max_speed\": 280}, {\"brand\": \"Benz\", \"max_speed\": 320}], \"age\": 38, \"friends\": [\"\\u738b\\u5927\\u9524\", \"\\u767d\\u5143\\u82b3\"], \"name\": \"\\u9a86\\u660a\"}\n保存数据完成！\n"
     ]
    }
   ],
   "source": [
    "import json\n",
    "import shutil\n",
    "\n",
    "mydict = {\n",
    "    'name': '骆昊',\n",
    "        'age': 38,\n",
    "        'qq': 957658,\n",
    "        'friends': ['王大锤', '白元芳'],\n",
    "        'cars': [\n",
    "            {'brand': 'BYD', 'max_speed': 180},\n",
    "            {'brand': 'Audi', 'max_speed': 280},\n",
    "            {'brand': 'Benz', 'max_speed': 320}\n",
    "        ]\n",
    "}\n",
    "try:\n",
    "    with open('data.json', 'w') as fs:\n",
    "        json.dump(mydict, fs)\n",
    "        print json.dumps(mydict)\n",
    "except IOError as e:\n",
    "    print(e)\n",
    "print('保存数据完成！')"
   ]
  },
  {
   "cell_type": "code",
   "execution_count": 6,
   "metadata": {},
   "outputs": [],
   "source": [
    "from multiprocessing import Process\n",
    "from threading import Thread\n",
    "from os import getpid\n",
    "from random import randint\n",
    "from time import time, sleep"
   ]
  },
  {
   "cell_type": "code",
   "execution_count": 7,
   "metadata": {},
   "outputs": [],
   "source": [
    "def download_task(filename):\n",
    "    print('启动下载进程，进程号[%d]。' % getpid())\n",
    "    print('开始下载%s...' % filename)\n",
    "    time_to_download = randint(5, 10)\n",
    "    sleep(time_to_download)\n",
    "    print('%s下载完成！耗费%d秒' % (filename, time_to_download))"
   ]
  },
  {
   "cell_type": "code",
   "execution_count": 8,
   "metadata": {},
   "outputs": [
    {
     "output_type": "stream",
     "name": "stdout",
     "text": [
      "启动下载进程，进程号[44407]。\n",
      "开始下载Python从入门到住院.pdf...\n",
      "启动下载进程，进程号[44408]。\n",
      "开始下载Peking Hot.avi...\n",
      "Peking Hot.avi下载完成！耗费6秒\n",
      "Python从入门到住院.pdf下载完成！耗费7秒\n",
      "总共耗费了7.03秒\n"
     ]
    }
   ],
   "source": [
    "start = time()\n",
    "p1 = Process(target=download_task, args=('Python从入门到住院.pdf',))\n",
    "p1.start()\n",
    "p2 = Process(target=download_task, args=('Peking Hot.avi',))\n",
    "p2.start()\n",
    "p1.join()\n",
    "p2.join()\n",
    "end = time()\n",
    "print('总共耗费了%.2f秒' % (end-start))"
   ]
  },
  {
   "cell_type": "code",
   "execution_count": 9,
   "metadata": {},
   "outputs": [],
   "source": [
    "def dwonload(filename):\n",
    "    print('开始下载%s...' % filename)\n",
    "    time_to_download = randint(5, 10)\n",
    "    sleep(time_to_download)\n",
    "    print('%s下载完成！耗费%d秒' % (filename, time_to_download))"
   ]
  },
  {
   "cell_type": "code",
   "execution_count": 10,
   "metadata": {},
   "outputs": [
    {
     "output_type": "stream",
     "name": "stdout",
     "text": [
      "1+2+3\n"
     ]
    }
   ],
   "source": [
    "list = ['1', '2', '3']\n",
    "result = '+'.join(list)\n",
    "print result"
   ]
  },
  {
   "cell_type": "code",
   "execution_count": 11,
   "metadata": {},
   "outputs": [
    {
     "output_type": "stream",
     "name": "stdout",
     "text": [
      "<generator object <genexpr> at 0x10dc1fe10>\n0\n1\n2\n3\n4\n5\n6\n7\n8\n9\n"
     ]
    }
   ],
   "source": [
    "gen = (i for i in range(10))\n",
    "print gen\n",
    "for i in gen:\n",
    "    print i"
   ]
  },
  {
   "cell_type": "code",
   "execution_count": 12,
   "metadata": {},
   "outputs": [
    {
     "output_type": "stream",
     "name": "stdout",
     "text": [
      "20\n23\n"
     ]
    }
   ],
   "source": [
    "for i in xrange(100):\n",
    "    if i < 20:\n",
    "        pass\n",
    "    if i == 20:\n",
    "        print i\n",
    "    elif i == 46 or i == 22:\n",
    "        pass\n",
    "    elif i == 23:\n",
    "        print i"
   ]
  },
  {
   "cell_type": "code",
   "execution_count": 13,
   "metadata": {},
   "outputs": [
    {
     "output_type": "stream",
     "name": "stdout",
     "text": [
      "{'four': 4, 'three': 3, 'two': 2, 'one': 1}\n"
     ]
    }
   ],
   "source": [
    "items1 = dict(one=1, two=2, three=3, four=4)\n",
    "print items1"
   ]
  },
  {
   "cell_type": "code",
   "execution_count": 14,
   "metadata": {},
   "outputs": [
    {
     "output_type": "stream",
     "name": "stdout",
     "text": [
      "{'hello': 1}\n"
     ]
    }
   ],
   "source": [
    "items2 = dict(zip(['hello'], [1]))\n",
    "print items2"
   ]
  },
  {
   "cell_type": "code",
   "execution_count": 15,
   "metadata": {},
   "outputs": [],
   "source": [
    "def test(name = None):\n",
    "    if name is None:\n",
    "        name = 'hello'\n",
    "    print name"
   ]
  },
  {
   "cell_type": "code",
   "execution_count": 16,
   "metadata": {},
   "outputs": [
    {
     "output_type": "stream",
     "name": "stdout",
     "text": [
      "hello\n"
     ]
    }
   ],
   "source": [
    "test()"
   ]
  },
  {
   "cell_type": "code",
   "execution_count": 17,
   "metadata": {},
   "outputs": [],
   "source": [
    "for a in ['four', 'three']:\n",
    "    if a not in items1:\n",
    "        print False\n",
    "        pass"
   ]
  },
  {
   "cell_type": "code",
   "execution_count": 18,
   "metadata": {},
   "outputs": [],
   "source": [
    "def str2time(str):\n",
    "    h, m, s = str[:-2].split(':')\n",
    "    h, m, s = int(h), int(m), int(s)\n",
    "    if str[-2:] == 'PM':\n",
    "        h += 12\n",
    "    return h, m, s"
   ]
  },
  {
   "cell_type": "code",
   "execution_count": 19,
   "metadata": {},
   "outputs": [
    {
     "output_type": "stream",
     "name": "stdout",
     "text": [
      "(24, 12, 12)\n"
     ]
    }
   ],
   "source": [
    "print(str2time('12:12:12PM'))"
   ]
  },
  {
   "cell_type": "code",
   "execution_count": 20,
   "metadata": {},
   "outputs": [
    {
     "output_type": "stream",
     "name": "stdout",
     "text": [
      "(0, 1)\n(1, 3)\n(2, 5)\n(3, 7)\n(4, 100)\n[1, 400, 3, 5, 7, 100, 200, 1000, 2000]\n9\n[1, 400, 5, 7, 100, 200, 1000, 2000]\n[400, 5, 7, 100, 200, 1000]\n"
     ]
    }
   ],
   "source": [
    "list1 = [1, 3, 5, 7, 100]\n",
    "for index, elem in enumerate(list1):\n",
    "    print(index, elem)\n",
    "list1.append(200)\n",
    "list1.insert(1, 400)\n",
    "list1 += [1000, 2000]\n",
    "print(list1)\n",
    "print(len(list1))\n",
    "if 3 in list1:\n",
    "    list1.remove(3)\n",
    "if 1234 in list1:\n",
    "    list1.remove(1234)\n",
    "print(list1)\n",
    "list1.pop(0)\n",
    "list1.pop(len(list1) - 1)\n",
    "print(list1)"
   ]
  },
  {
   "cell_type": "code",
   "execution_count": 21,
   "metadata": {},
   "outputs": [
    {
     "output_type": "stream",
     "name": "stdout",
     "text": [
      "[1, 2, 3, 4, 5, 6, 7, 8, 9]\n['A1', 'A2', 'A3', 'A4', 'A5', 'A6', 'A7', 'B1', 'B2', 'B3', 'B4', 'B5', 'B6', 'B7', 'C1', 'C2', 'C3', 'C4', 'C5', 'C6', 'C7', 'D1', 'D2', 'D3', 'D4', 'D5', 'D6', 'D7', 'E1', 'E2', 'E3', 'E4', 'E5', 'E6', 'E7', 'F1', 'F2', 'F3', 'F4', 'F5', 'F6', 'F7']\n9032\n80\n"
     ]
    }
   ],
   "source": [
    "f = [x for x in range(1, 10)]\n",
    "print(f)\n",
    "f = [x + y for x in 'ABCDEF' for y in '1234567']\n",
    "print(f)\n",
    "f = [x**2 for x in range(1, 1000)]\n",
    "print(sys.getsizeof(f))\n",
    "# print(f)\n",
    "f = (x**2 for x in range(1, 1000))\n",
    "print(sys.getsizeof(f))\n",
    "# print(f)\n",
    "# for val in f:\n",
    "    # print(val)"
   ]
  },
  {
   "cell_type": "code",
   "execution_count": 23,
   "metadata": {},
   "outputs": [
    {
     "output_type": "stream",
     "name": "stdout",
     "text": [
      "{'1': 'a', '3': 'c', '2': 'b', '5': 'e', '4': 'd'}\n"
     ]
    }
   ],
   "source": [
    "items = dict(zip(['1', '2', '3', '4'], 'abcd'))\n",
    "def getNum(items):\n",
    "    items.update(zip('5', 'e'))\n",
    "getNum(items)\n",
    "print(items)"
   ]
  },
  {
   "cell_type": "code",
   "execution_count": 24,
   "metadata": {},
   "outputs": [
    {
     "output_type": "execute_result",
     "data": {
      "text/plain": [
       "False"
      ]
     },
     "metadata": {},
     "execution_count": 24
    }
   ],
   "source": [
    "2 in [1, 3]"
   ]
  },
  {
   "cell_type": "code",
   "execution_count": 25,
   "metadata": {},
   "outputs": [
    {
     "output_type": "stream",
     "name": "stdout",
     "text": [
      "[['a', 1], ['b', 2], ['c', 3], ['d', 4]]\n"
     ]
    }
   ],
   "source": [
    "log = [\n",
    "    ['a', 1],\n",
    "    ['b', 2],\n",
    "    ['c', 3]\n",
    "]\n",
    "log.append(['d', 4])\n",
    "print(log)"
   ]
  },
  {
   "cell_type": "code",
   "execution_count": 26,
   "metadata": {},
   "outputs": [
    {
     "output_type": "stream",
     "name": "stdout",
     "text": [
      "10\n"
     ]
    }
   ],
   "source": [
    "if 20 > 0:\n",
    "    a = 10\n",
    "else:\n",
    "    a = 5\n",
    "print(a)"
   ]
  },
  {
   "cell_type": "code",
   "execution_count": 30,
   "metadata": {},
   "outputs": [
    {
     "output_type": "stream",
     "name": "stdout",
     "text": [
      "{'a': [{'test': 1}, {'test': 2}]}\n"
     ]
    }
   ],
   "source": [
    "test = {}\n",
    "test['a'] = [{'test': 1}]\n",
    "test['a'] += [{'test': 2}]\n",
    "print(test)"
   ]
  },
  {
   "cell_type": "code",
   "execution_count": 31,
   "metadata": {},
   "outputs": [
    {
     "output_type": "stream",
     "name": "stdout",
     "text": [
      "[99, 92, 88]\n[12, 25, 34]\n[{'price': 543.22, 'name': 'AAPL', 'shares': 50}, {'price': 115.65, 'name': 'ACME', 'shares': 75}]\n[{'price': 21.09, 'name': 'FB', 'shares': 200}, {'price': 91.1, 'name': 'IBM', 'shares': 100}]\n"
     ]
    }
   ],
   "source": [
    "import heapq\n",
    "\n",
    "list1 = [34, 25, 12, 99, 87, 63, 58, 78, 88, 92]\n",
    "list2 = [\n",
    "    {'name': 'IBM', 'shares': 100, 'price': 91.1},\n",
    "    {'name': 'AAPL', 'shares': 50, 'price': 543.22},\n",
    "    {'name': 'FB', 'shares': 200, 'price': 21.09},\n",
    "    {'name': 'HPQ', 'shares': 35, 'price': 31.75},\n",
    "    {'name': 'YHOO', 'shares': 45, 'price': 16.35},\n",
    "    {'name': 'ACME', 'shares': 75, 'price': 115.65}\n",
    "]\n",
    "print(heapq.nlargest(3, list1))\n",
    "print(heapq.nsmallest(3, list1))\n",
    "print(heapq.nlargest(2, list2, key=lambda x: x['price']))\n",
    "print(heapq.nlargest(2, list2, key=lambda x: x['shares']))"
   ]
  },
  {
   "cell_type": "code",
   "execution_count": 32,
   "metadata": {},
   "outputs": [
    {
     "output_type": "stream",
     "name": "stdout",
     "text": [
      "类方法\n替换类方法\n"
     ]
    }
   ],
   "source": [
    "class ClassA(object):\n",
    "    var1 = '两点水'\n",
    "\n",
    "    def fun1(self):\n",
    "        print('类方法')\n",
    "\n",
    "a = ClassA()\n",
    "a.fun1()\n",
    "\n",
    "def newFun(self):\n",
    "    print('替换类方法')\n",
    "\n",
    "ClassA.fun1 = newFun\n",
    "a.fun1()"
   ]
  },
  {
   "cell_type": "code",
   "execution_count": 3,
   "metadata": {},
   "outputs": [
    {
     "output_type": "stream",
     "name": "stdout",
     "text": [
      "False\n"
     ]
    }
   ],
   "source": [
    "dict = {22: 'test'}\n",
    "gt = 23\n",
    "if gt in dict:\n",
    "    print True\n",
    "else:\n",
    "    print False"
   ]
  },
  {
   "cell_type": "code",
   "execution_count": 10,
   "metadata": {},
   "outputs": [
    {
     "output_type": "stream",
     "name": "stdout",
     "text": [
      "False\n"
     ]
    }
   ],
   "source": [
    "name_map = {\n",
    "    1: ['world', 22],\n",
    "    2: ['hello', 213],\n",
    "    3: ['yes', 12]\n",
    "}\n",
    "print 23 in name_map"
   ]
  },
  {
   "cell_type": "code",
   "execution_count": 18,
   "metadata": {},
   "outputs": [],
   "source": [
    "from sklearn.metrics import confusion_matrix\n",
    "y_true = [2, 0, 2, 2, 1, 3, 5, 6, 4]\n",
    "y_pred = [0, 0, 5, 2, 1, 3, 4, 5, 2]\n",
    "cm = confusion_matrix(y_true, y_pred)"
   ]
  },
  {
   "cell_type": "code",
   "execution_count": 20,
   "metadata": {},
   "outputs": [],
   "source": [
    "import numpy as np\n",
    "np.savetxt(\"test.txt\", cm, fmt='%d', delimiter='\\t')"
   ]
  },
  {
   "source": [
    "## 流畅的python学习"
   ],
   "cell_type": "markdown",
   "metadata": {}
  },
  {
   "cell_type": "code",
   "execution_count": 37,
   "metadata": {},
   "outputs": [],
   "source": [
    "import collections\n",
    "from random import choice\n",
    "from math import hypot"
   ]
  },
  {
   "cell_type": "code",
   "execution_count": 38,
   "metadata": {},
   "outputs": [
    {
     "output_type": "execute_result",
     "data": {
      "text/plain": [
       "Card(rank='6', suit='diamonds')"
      ]
     },
     "metadata": {},
     "execution_count": 38
    }
   ],
   "source": [
    "Card = collections.namedtuple('Card', ['rank', 'suit'])\n",
    "beer_card = Card('6', 'diamonds')\n",
    "beer_card"
   ]
  },
  {
   "cell_type": "code",
   "execution_count": 39,
   "metadata": {},
   "outputs": [],
   "source": [
    "class FrenchDeck:\n",
    "    ranks = [str(n) for n in range(2, 11)] + list('JQKA')\n",
    "    suits = 'spades diamonds clubs hearts'.split()\n",
    "\n",
    "    def __init__(self):\n",
    "        self._cards = [Card(rank, suit) for suit in self.suits\n",
    "                                        for rank in self.ranks]\n",
    "    \n",
    "    def __len__(self):\n",
    "        return len(self._cards)\n",
    "    \n",
    "    def __getitem__(self, position):\n",
    "        return self._cards[position]"
   ]
  },
  {
   "cell_type": "code",
   "execution_count": 40,
   "metadata": {},
   "outputs": [
    {
     "output_type": "stream",
     "name": "stdout",
     "text": [
      "Card(rank='2', suit='spades') Card(rank='A', suit='hearts')\nCard(rank='10', suit='diamonds')\nCard(rank='6', suit='clubs')\nCard(rank='Q', suit='hearts')\nCard(rank='J', suit='clubs')\nCard(rank='9', suit='clubs')\n"
     ]
    }
   ],
   "source": [
    "deck = FrenchDeck()\n",
    "len(deck)\n",
    "print deck[0], deck[-1]\n",
    "for i in range(5):\n",
    "    print(choice(deck))"
   ]
  },
  {
   "cell_type": "code",
   "execution_count": 41,
   "metadata": {},
   "outputs": [],
   "source": [
    "# 排序\n",
    "suit_values = dict(spades=3, hearts=2, diamonds=1, clubs=0)\n",
    "def spades_high(card):\n",
    "    rank_value = FrenchDeck.ranks.index(card.rank)\n",
    "    return rank_value * len(suit_values) + suit_values[card.suit]"
   ]
  },
  {
   "cell_type": "code",
   "execution_count": 42,
   "metadata": {},
   "outputs": [
    {
     "output_type": "stream",
     "name": "stdout",
     "text": [
      "Card(rank='2', suit='clubs')\nCard(rank='2', suit='diamonds')\nCard(rank='2', suit='hearts')\nCard(rank='2', suit='spades')\nCard(rank='3', suit='clubs')\nCard(rank='3', suit='diamonds')\nCard(rank='3', suit='hearts')\nCard(rank='3', suit='spades')\nCard(rank='4', suit='clubs')\nCard(rank='4', suit='diamonds')\nCard(rank='4', suit='hearts')\nCard(rank='4', suit='spades')\nCard(rank='5', suit='clubs')\nCard(rank='5', suit='diamonds')\nCard(rank='5', suit='hearts')\nCard(rank='5', suit='spades')\nCard(rank='6', suit='clubs')\nCard(rank='6', suit='diamonds')\nCard(rank='6', suit='hearts')\nCard(rank='6', suit='spades')\nCard(rank='7', suit='clubs')\nCard(rank='7', suit='diamonds')\nCard(rank='7', suit='hearts')\nCard(rank='7', suit='spades')\nCard(rank='8', suit='clubs')\nCard(rank='8', suit='diamonds')\nCard(rank='8', suit='hearts')\nCard(rank='8', suit='spades')\nCard(rank='9', suit='clubs')\nCard(rank='9', suit='diamonds')\nCard(rank='9', suit='hearts')\nCard(rank='9', suit='spades')\nCard(rank='10', suit='clubs')\nCard(rank='10', suit='diamonds')\nCard(rank='10', suit='hearts')\nCard(rank='10', suit='spades')\nCard(rank='J', suit='clubs')\nCard(rank='J', suit='diamonds')\nCard(rank='J', suit='hearts')\nCard(rank='J', suit='spades')\nCard(rank='Q', suit='clubs')\nCard(rank='Q', suit='diamonds')\nCard(rank='Q', suit='hearts')\nCard(rank='Q', suit='spades')\nCard(rank='K', suit='clubs')\nCard(rank='K', suit='diamonds')\nCard(rank='K', suit='hearts')\nCard(rank='K', suit='spades')\nCard(rank='A', suit='clubs')\nCard(rank='A', suit='diamonds')\nCard(rank='A', suit='hearts')\nCard(rank='A', suit='spades')\n"
     ]
    }
   ],
   "source": [
    "for card  in sorted(deck, key=spades_high):\n",
    "    print(card)"
   ]
  },
  {
   "cell_type": "code",
   "execution_count": 43,
   "metadata": {},
   "outputs": [],
   "source": [
    "class Vector:\n",
    "\n",
    "    def __init__(self, x=0, y=0):\n",
    "        self.x = x\n",
    "        self.y = y\n",
    "    \n",
    "    def __repr__(self):\n",
    "        return 'Vector(%r, %r)' % (self.x, self.y)\n",
    "\n",
    "    def __abs__(self):\n",
    "        return hypot(self.x, self.y)\n",
    "\n",
    "    def __bool__(self):\n",
    "        return bool(abs(self))\n",
    "    \n",
    "    def __add__(self, other):\n",
    "        x = self.x + other.x\n",
    "        y = self.y + other.y\n",
    "        return Vector(x, y)\n",
    "    \n",
    "    def __mul__(self, scalar):\n",
    "        return Vector(self.x * scalar, self.y * scalar)"
   ]
  },
  {
   "cell_type": "code",
   "execution_count": 44,
   "metadata": {},
   "outputs": [
    {
     "output_type": "stream",
     "name": "stdout",
     "text": [
      "False\nFalse\nFalse\nFalse\nFalse\nFalse\nFalse\nFalse\nTrue\nTrue\nTrue\nTrue\nTrue\nTrue\nTrue\nFalse\nFalse\nFalse\nFalse\nFalse\n"
     ]
    }
   ],
   "source": [
    "COLLECT_GIFT_COIN_B_SYSTEM = {\n",
    "    58: {\n",
    "        'name': 'archer',\n",
    "        'type': 'arrow'\n",
    "    },\n",
    "    59: {\n",
    "        'name': 'bingo',\n",
    "        'type': 'token'\n",
    "    },\n",
    "    60: {\n",
    "        'name': 'blast',\n",
    "        'type': 'pick'\n",
    "    },\n",
    "    61: {\n",
    "        'name': 'cooking',\n",
    "        'type': 'token'\n",
    "    },\n",
    "    62: {\n",
    "        'name': 'gof',\n",
    "        'type': 'token'\n",
    "    },\n",
    "    63: {\n",
    "        'name': 'journey',\n",
    "        'type': 'token'\n",
    "    },\n",
    "    64: {\n",
    "        'name': 'rocket',\n",
    "        'type': 'total_rolls'\n",
    "    }\n",
    "}\n",
    "for i in range(50, 70):\n",
    "    print i in COLLECT_GIFT_COIN_B_SYSTEM"
   ]
  },
  {
   "cell_type": "code",
   "execution_count": 45,
   "metadata": {},
   "outputs": [
    {
     "output_type": "stream",
     "name": "stdout",
     "text": [
      "20 0\n"
     ]
    }
   ],
   "source": [
    "def test(v1=0):\n",
    "    v1 = 20\n",
    "    return v1, 0\n",
    "v1, v2 = test()\n",
    "print v1, v2"
   ]
  },
  {
   "cell_type": "code",
   "execution_count": 46,
   "metadata": {},
   "outputs": [
    {
     "output_type": "stream",
     "name": "stdout",
     "text": [
      "black S\nblack M\nblack L\nwhite S\nwhite M\nwhite L\n"
     ]
    }
   ],
   "source": [
    "colors = ['black', 'white']\n",
    "sizes = ['S', 'M', 'L']\n",
    "for tshit in ('%s %s' %(c, s) for c in colors for s in sizes):\n",
    "    print tshit"
   ]
  },
  {
   "cell_type": "code",
   "execution_count": 47,
   "metadata": {},
   "outputs": [
    {
     "output_type": "stream",
     "name": "stdout",
     "text": [
      "/home/luciano/.ssh idrsa.pub\n"
     ]
    }
   ],
   "source": [
    "_, filename = os.path.split('/home/luciano/.ssh/idrsa.pub')\n",
    "print _, filename"
   ]
  },
  {
   "cell_type": "code",
   "execution_count": 48,
   "metadata": {},
   "outputs": [
    {
     "output_type": "stream",
     "name": "stdout",
     "text": [
      "                |   lat.    |   long.  \nMexico City     |   19.4333 |  -99.1333\nNew York-Newark |   40.8086 |  -74.0204\nSao Paulo       |  -23.5478 |  -46.6358\n"
     ]
    }
   ],
   "source": [
    "metro_areas = [\n",
    "    ('Tokyo', 'JP', 36.933, (35.689722, 139.691667)),\n",
    "    ('Delhi NCR', 'IN', 21.935, (28.613889, 77.208889)),\n",
    "    ('Mexico City', 'MX', 20.142, (19.43333, -99.13333)),\n",
    "    ('New York-Newark', 'US', 20.104, (40.808611, -74.020386)),\n",
    "    ('Sao Paulo', 'BR', 19.649, (-23.54778, -46.635833))\n",
    "]\n",
    "print '{:15} | {:^9} | {:^9}'.format('', 'lat.', 'long.')\n",
    "fmt = '{:15} | {:9.4f} | {:9.4f}'\n",
    "for name, cc, pop, (latitude, longitude) in metro_areas:\n",
    "    if longitude <= 0:\n",
    "        print fmt.format(name, latitude, longitude)"
   ]
  },
  {
   "cell_type": "code",
   "execution_count": 49,
   "metadata": {},
   "outputs": [
    {
     "output_type": "execute_result",
     "data": {
      "text/plain": [
       "City(name='Tokyo', country='JP', population=36.933, coordinates=(35.689722, 139.691667))"
      ]
     },
     "metadata": {},
     "execution_count": 49
    }
   ],
   "source": [
    "City = collections.namedtuple('City', 'name country population coordinates')\n",
    "tokyo = City('Tokyo', 'JP', 36.933, (35.689722, 139.691667))\n",
    "tokyo"
   ]
  },
  {
   "cell_type": "code",
   "execution_count": 50,
   "metadata": {},
   "outputs": [
    {
     "output_type": "execute_result",
     "data": {
      "text/plain": [
       "36.933"
      ]
     },
     "metadata": {},
     "execution_count": 50
    }
   ],
   "source": [
    "tokyo.population"
   ]
  },
  {
   "cell_type": "code",
   "execution_count": 51,
   "metadata": {},
   "outputs": [
    {
     "output_type": "execute_result",
     "data": {
      "text/plain": [
       "(35.689722, 139.691667)"
      ]
     },
     "metadata": {},
     "execution_count": 51
    }
   ],
   "source": [
    "tokyo.coordinates"
   ]
  },
  {
   "cell_type": "code",
   "execution_count": 52,
   "metadata": {},
   "outputs": [
    {
     "output_type": "execute_result",
     "data": {
      "text/plain": [
       "('name', 'country', 'population', 'coordinates')"
      ]
     },
     "metadata": {},
     "execution_count": 52
    }
   ],
   "source": [
    "City._fields"
   ]
  },
  {
   "cell_type": "code",
   "execution_count": 53,
   "metadata": {},
   "outputs": [
    {
     "output_type": "execute_result",
     "data": {
      "text/plain": [
       "OrderedDict([('name', 'Delhi NCR'),\n",
       "             ('country', 'IN'),\n",
       "             ('population', 21.935),\n",
       "             ('coordinates', LatLong(lat=28.613889, long=77.208889))])"
      ]
     },
     "metadata": {},
     "execution_count": 53
    }
   ],
   "source": [
    "LatLong = collections.namedtuple('LatLong', 'lat long')\n",
    "delhi_data = ('Delhi NCR', 'IN', 21.935, LatLong(28.613889, 77.208889))\n",
    "delhi = City._make(delhi_data)\n",
    "delhi._asdict()"
   ]
  },
  {
   "cell_type": "code",
   "execution_count": 54,
   "metadata": {},
   "outputs": [
    {
     "output_type": "stream",
     "name": "stdout",
     "text": [
      " $17.50      Pimoroni PiBrella                 \n $4.95       6mm Tactile Switch x20            \n $28.00      Panavise Jr. - PV-201             \n $34.95      PiTFT Mini Kit 320x240            \n \n"
     ]
    }
   ],
   "source": [
    ">>> invoice = \"\"\"\n",
    "... 0.....6................................40........52...55........\n",
    "... 1909  Pimoroni PiBrella                  $17.50     3   $52.50\n",
    "... 1489  6mm Tactile Switch x20             $4.95      2   $9.90\n",
    "... 1510  Panavise Jr. - PV-201              $28.00     1   $28.00\n",
    "... 1601  PiTFT Mini Kit 320x240             $34.95     1   $34.95\n",
    "... \"\"\"\n",
    "SKU = slice(0, 6)\n",
    "DESCRIPTION = slice(6, 40)\n",
    "UNIT_PRICE = slice(40, 52)\n",
    "QUANTITY = slice(52, 55)\n",
    "ITEM_TOTAL = slice(55, None)\n",
    "line_items = invoice.split('\\n')[2:]\n",
    "for item in line_items:\n",
    "    print item[UNIT_PRICE], item[DESCRIPTION]"
   ]
  },
  {
   "cell_type": "code",
   "execution_count": 55,
   "metadata": {},
   "outputs": [
    {
     "output_type": "stream",
     "name": "stdout",
     "text": [
      "[0, 1, 2, 3, 4, 5, 6, 7, 8, 9]\n[0, 1, 20, 30, 5, 6, 7, 8, 9]\n[0, 1, 20, 11, 5, 22, 9]\n[0, 1, 100, 22, 9]\n"
     ]
    }
   ],
   "source": [
    "l = list(range(10))\n",
    "print l\n",
    "l[2:5] = [20, 30]\n",
    "print l\n",
    "del l[5:7]\n",
    "l[3::2] = [11, 22]\n",
    "print l\n",
    "l[2:5] = [100]\n",
    "print l"
   ]
  },
  {
   "cell_type": "code",
   "execution_count": 56,
   "metadata": {},
   "outputs": [
    {
     "output_type": "execute_result",
     "data": {
      "text/plain": [
       "[['_', '_', 'X'], ['_', '_', 'X'], ['_', '_', 'X']]"
      ]
     },
     "metadata": {},
     "execution_count": 56
    }
   ],
   "source": [
    "board = [['_'] * 3] * 3\n",
    "board[1][2] = 'X'\n",
    "board"
   ]
  },
  {
   "cell_type": "code",
   "execution_count": 57,
   "metadata": {},
   "outputs": [
    {
     "output_type": "execute_result",
     "data": {
      "text/plain": [
       "[['_', '_', '_'], ['_', '_', 'X'], ['_', '_', '_']]"
      ]
     },
     "metadata": {},
     "execution_count": 57
    }
   ],
   "source": [
    "board = [['_'] * 3 for i in range(3)]\n",
    "board[1][2] = 'X'\n",
    "board"
   ]
  },
  {
   "cell_type": "code",
   "execution_count": 58,
   "metadata": {},
   "outputs": [
    {
     "output_type": "stream",
     "name": "stdout",
     "text": [
      "DEMO: bisect\nhaystack ->  1  4  5  6  8 12 15 20 21 23 23 26 29 30\n31 @ 14      |  |  |  |  |  |  |  |  |  |  |  |  |  |31\n30 @ 14      |  |  |  |  |  |  |  |  |  |  |  |  |  |30\n29 @ 13      |  |  |  |  |  |  |  |  |  |  |  |  |29\n23 @ 11      |  |  |  |  |  |  |  |  |  |  |23\n22 @  9      |  |  |  |  |  |  |  |  |22\n10 @  5      |  |  |  |  |10\n 8 @  5      |  |  |  |  |8 \n 5 @  3      |  |  |5 \n 2 @  1      |2 \n 1 @  1      |1 \n 0 @  0    0 \n"
     ]
    }
   ],
   "source": [
    "import bisect\n",
    "import sys\n",
    "\n",
    "HAYSTACK = [1, 4, 5, 6, 8, 12, 15, 20, 21, 23, 23, 26, 29, 30]\n",
    "NEEDLES = [0, 1, 2, 5, 8, 10, 22, 23, 29, 30, 31]\n",
    "\n",
    "ROW_FMT = '{0:2d} @ {1:2d}    {2}{0:<2d}'\n",
    "def demo(bisect_fn):\n",
    "    for needle in reversed(NEEDLES):\n",
    "        position = bisect_fn(HAYSTACK, needle)\n",
    "        offset = position * '  |'\n",
    "        print ROW_FMT.format(needle, position, offset)\n",
    "\n",
    "\n",
    "bisect_fn = bisect.bisect\n",
    "print 'DEMO:', bisect_fn.__name__\n",
    "print 'haystack ->', ' '.join('%2d' % n for n in HAYSTACK)\n",
    "demo(bisect_fn)\n"
   ]
  },
  {
   "cell_type": "code",
   "execution_count": 59,
   "metadata": {},
   "outputs": [
    {
     "output_type": "execute_result",
     "data": {
      "text/plain": [
       "['F', 'A', 'C', 'C', 'B', 'A', 'A']"
      ]
     },
     "metadata": {},
     "execution_count": 59
    }
   ],
   "source": [
    "def grade(score, breakpoints=[60, 70, 80, 90], grades='FDCBA'):\n",
    "    i = bisect.bisect(breakpoints, score)\n",
    "    return grades[i]\n",
    "\n",
    "[grade(score) for score in [33, 99, 77, 70, 89, 90, 100]]"
   ]
  },
  {
   "cell_type": "code",
   "execution_count": 60,
   "metadata": {},
   "outputs": [
    {
     "output_type": "stream",
     "name": "stdout",
     "text": [
      "13 -> [13]\n12 -> [12, 13]\n 5 -> [5, 12, 13]\n 6 -> [5, 6, 12, 13]\n 9 -> [5, 6, 9, 12, 13]\n 2 -> [2, 5, 6, 9, 12, 13]\n 4 -> [2, 4, 5, 6, 9, 12, 13]\n"
     ]
    }
   ],
   "source": [
    "import random\n",
    "\n",
    "SIZE = 7\n",
    "\n",
    "random.seed(1729)\n",
    "my_list = []\n",
    "for i in range(SIZE):\n",
    "    new_item = random.randrange(SIZE*2)\n",
    "    bisect.insort(my_list, new_item)\n",
    "    print '%2d ->' % new_item, my_list"
   ]
  },
  {
   "cell_type": "code",
   "execution_count": 61,
   "metadata": {},
   "outputs": [
    {
     "output_type": "stream",
     "name": "stdout",
     "text": [
      "0.713884926328\n",
      "0.713884926328\n",
      "True\n"
     ]
    }
   ],
   "source": [
    "from array import array\n",
    "\n",
    "floats = array('d', (random.random() for i in range(10**7)))\n",
    "print floats[-1]\n",
    "fp = open('floats.bin', 'wb')\n",
    "floats.tofile(fp)\n",
    "fp.close()\n",
    "\n",
    "floats2 = array('d')\n",
    "fp = open('floats.bin', 'rb')\n",
    "floats2.fromfile(fp, 10**7)\n",
    "fp.close()\n",
    "print floats2[-1]\n",
    "print floats == floats2"
   ]
  },
  {
   "cell_type": "code",
   "execution_count": 62,
   "metadata": {},
   "outputs": [
    {
     "output_type": "error",
     "ename": "TypeError",
     "evalue": "cannot make memory view because object does not have the buffer interface",
     "traceback": [
      "\u001b[0;31m\u001b[0m",
      "\u001b[0;31mTypeError\u001b[0mTraceback (most recent call last)",
      "\u001b[0;32m<ipython-input-62-912f33b3cc29>\u001b[0m in \u001b[0;36m<module>\u001b[0;34m()\u001b[0m\n\u001b[1;32m      1\u001b[0m \u001b[0;32mfrom\u001b[0m \u001b[0marray\u001b[0m \u001b[0;32mimport\u001b[0m \u001b[0marray\u001b[0m\u001b[0;34m\u001b[0m\u001b[0m\n\u001b[1;32m      2\u001b[0m \u001b[0mnumbers\u001b[0m \u001b[0;34m=\u001b[0m \u001b[0marray\u001b[0m\u001b[0;34m(\u001b[0m\u001b[0;34m'h'\u001b[0m\u001b[0;34m,\u001b[0m \u001b[0;34m[\u001b[0m\u001b[0;34m-\u001b[0m\u001b[0;36m2\u001b[0m\u001b[0;34m,\u001b[0m \u001b[0;34m-\u001b[0m\u001b[0;36m1\u001b[0m\u001b[0;34m,\u001b[0m \u001b[0;36m0\u001b[0m\u001b[0;34m,\u001b[0m \u001b[0;36m1\u001b[0m\u001b[0;34m,\u001b[0m \u001b[0;36m2\u001b[0m\u001b[0;34m]\u001b[0m\u001b[0;34m)\u001b[0m\u001b[0;34m\u001b[0m\u001b[0m\n\u001b[0;32m----> 3\u001b[0;31m \u001b[0mmemv\u001b[0m \u001b[0;34m=\u001b[0m \u001b[0mmemoryview\u001b[0m\u001b[0;34m(\u001b[0m\u001b[0mnumbers\u001b[0m\u001b[0;34m)\u001b[0m\u001b[0;34m\u001b[0m\u001b[0m\n\u001b[0m\u001b[1;32m      4\u001b[0m \u001b[0mlen\u001b[0m\u001b[0;34m(\u001b[0m\u001b[0mmemv\u001b[0m\u001b[0;34m)\u001b[0m\u001b[0;34m\u001b[0m\u001b[0m\n",
      "\u001b[0;31mTypeError\u001b[0m: cannot make memory view because object does not have the buffer interface"
     ]
    }
   ],
   "source": [
    "from array import array\n",
    "numbers = array('h', [-2, -1, 0, 1, 2])\n",
    "memv = memoryview(numbers)\n",
    "len(memv)"
   ]
  },
  {
   "cell_type": "code",
   "execution_count": 24,
   "metadata": {},
   "outputs": [
    {
     "output_type": "execute_result",
     "data": {
      "text/plain": [
       "True"
      ]
     },
     "metadata": {},
     "execution_count": 24
    }
   ],
   "source": [
    "a = dict(one=1, two=2, three=3)\n",
    "b = {'one': 1, 'two': 2, 'three': 3}\n",
    "c = dict(zip(['one', 'two', 'three'], [1, 2, 3]))\n",
    "d = dict([('two', 2), ('one', 1), ('three', 3)])\n",
    "e = dict({'three': 3, 'one': 1, 'two': 2})\n",
    "a == b == c == d == e"
   ]
  },
  {
   "cell_type": "code",
   "execution_count": 25,
   "metadata": {},
   "outputs": [
    {
     "output_type": "execute_result",
     "data": {
      "text/plain": [
       "{'four': 4, 'one': 1, 'three': 3, 'two': 2}"
      ]
     },
     "metadata": {},
     "execution_count": 25
    }
   ],
   "source": [
    "a.setdefault('four', 4)\n",
    "a.setdefault('one', 1)"
   ]
  },
  {
   "cell_type": "code",
   "execution_count": null,
   "metadata": {},
   "outputs": [],
   "source": []
  }
 ],
 "metadata": {
  "kernelspec": {
   "name": "python3",
   "display_name": "Python 2.7.16 64-bit",
   "metadata": {
    "interpreter": {
     "hash": "bd7c3026d326d9ef062adc8144c5353626a24846a87242f01e34d60f558c8db4"
    }
   }
  },
  "language_info": {
   "codemirror_mode": {
    "name": "ipython",
    "version": 2
   },
   "file_extension": ".py",
   "mimetype": "text/x-python",
   "name": "python",
   "nbconvert_exporter": "python",
   "pygments_lexer": "ipython2",
   "version": "2.7.16-final"
  }
 },
 "nbformat": 4,
 "nbformat_minor": 2
}