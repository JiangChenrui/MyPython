{
 "cells": [
  {
   "cell_type": "code",
   "execution_count": 11,
   "metadata": {},
   "outputs": [],
   "source": [
    "def deco(func):\n",
    "    def inner():\n",
    "        func()\n",
    "        print('running inner()')\n",
    "    return inner"
   ]
  },
  {
   "cell_type": "code",
   "execution_count": 12,
   "metadata": {},
   "outputs": [],
   "source": [
    "@deco\n",
    "def target():\n",
    "    print('running target()')"
   ]
  },
  {
   "cell_type": "code",
   "execution_count": null,
   "metadata": {},
   "outputs": [],
   "source": [
    "target()"
   ]
  },
  {
   "cell_type": "code",
   "execution_count": null,
   "metadata": {},
   "outputs": [],
   "source": [
    "registry = []\n",
    "def register(func):\n",
    "    print('running register(%s)' % func)\n",
    "    registry.append(func)\n",
    "    return func\n",
    "\n",
    "class A():\n",
    "\n",
    "    @register\n",
    "    def f1(self):\n",
    "        print('running f1()')\n",
    "\n",
    "    @register\n",
    "    def f2(self):\n",
    "        print('running f2()')\n",
    "\n",
    "    def f3(self):\n",
    "        print('running f3()')\n",
    "\n",
    "print(registry)"
   ]
  },
  {
   "cell_type": "code",
   "execution_count": null,
   "metadata": {},
   "outputs": [],
   "source": [
    "def make_averager():\n",
    "    series = []\n",
    "\n",
    "    def averager(new_value):\n",
    "        series.append(new_value)\n",
    "        total = sum(series)\n",
    "        return total / len(series)\n",
    "\n",
    "    return averager"
   ]
  },
  {
   "cell_type": "code",
   "execution_count": null,
   "metadata": {},
   "outputs": [],
   "source": [
    "avg_1 = make_averager()\n",
    "avg_2 = make_averager()\n",
    "\n",
    "for i in range(10):\n",
    "    print(avg_1(i), end=', ')\n",
    "    print(avg_2(i+100))"
   ]
  },
  {
   "cell_type": "code",
   "execution_count": 6,
   "metadata": {},
   "outputs": [],
   "source": [
    "def make_averager():\n",
    "    count = 0\n",
    "    total = 0\n",
    "\n",
    "    def averager(new_value):\n",
    "        nonlocal count, total\n",
    "        count += 1\n",
    "        total += new_value\n",
    "        return total / count\n",
    "\n",
    "    return averager"
   ]
  },
  {
   "cell_type": "code",
   "execution_count": null,
   "metadata": {},
   "outputs": [],
   "source": [
    "avg = make_averager()\n",
    "avg(10)"
   ]
  },
  {
   "cell_type": "code",
   "execution_count": 10,
   "metadata": {},
   "outputs": [],
   "source": [
    "import time\n",
    "\n",
    "def clock(func):\n",
    "    def clocked(*args):\n",
    "        t0 = time.perf_counter()\n",
    "        result = func(*args)\n",
    "        elapsed = time.perf_counter() - t0\n",
    "        name = func.__name__\n",
    "        arg_str = ', '.join(repr(arg) for arg in args)\n",
    "        print('[%0.8fs] %s(%s) -> %r' % (elapsed, name, arg_str, result))\n",
    "        return result\n",
    "    return clocked"
   ]
  },
  {
   "cell_type": "code",
   "execution_count": null,
   "metadata": {},
   "outputs": [],
   "source": [
    "@clock\n",
    "def snooze(seconds):\n",
    "    time.sleep(seconds)\n",
    "\n",
    "@clock\n",
    "def factorial(n):\n",
    "    return 1 if n < 2 else n * factorial(n-1)\n",
    "\n",
    "print('*' * 40, 'Calling snooze(.123)')\n",
    "snooze(.123)\n",
    "print('*' * 40, 'Calling factorial(6)')\n",
    "print('6! =', factorial(6))"
   ]
  },
  {
   "cell_type": "code",
   "execution_count": 16,
   "metadata": {},
   "outputs": [],
   "source": [
    "import time\n",
    "import functools\n",
    "\n",
    "def clock(func):\n",
    "    @functools.wraps(func)\n",
    "    def clocked(*args, **kwargs):\n",
    "        t0 = time.time()\n",
    "        result = func(*args, **kwargs)\n",
    "        elapsed = time.time() - t0\n",
    "        name = func.__name__\n",
    "        arg_list = []\n",
    "        if args:\n",
    "            arg_list.append(', '.join(repr(arg) for arg in args))\n",
    "        if kwargs:\n",
    "            pairs = ['%s=%r' % (k, w) for k, w in sorted(kwargs.items())]\n",
    "            arg_list.append(', '.join(pairs))\n",
    "        arg_str = ', '.join(repr(arg) for arg in args)\n",
    "        print('[%0.8fs] %s(%s) -> %r' % (elapsed, name, arg_str, result))\n",
    "        return result\n",
    "    return clocked"
   ]
  },
  {
   "cell_type": "markdown",
   "metadata": {},
   "source": [
    "functools.lru_cache 是非常实用的装饰器，它实现了备忘（memoization）功能"
   ]
  },
  {
   "cell_type": "code",
   "execution_count": null,
   "metadata": {},
   "outputs": [],
   "source": [
    "@clock\n",
    "def fibonacci(n):\n",
    "    if n < 2:\n",
    "        return n\n",
    "    return fibonacci(n-2) + fibonacci(n-1)\n",
    "\n",
    "fibonacci(10)"
   ]
  },
  {
   "cell_type": "code",
   "execution_count": null,
   "metadata": {},
   "outputs": [],
   "source": [
    "@functools.lru_cache()\n",
    "@clock\n",
    "def fibonacci(n):\n",
    "    if n < 2:\n",
    "        return n\n",
    "    return fibonacci(n-2) + fibonacci(n-1)\n",
    "\n",
    "fibonacci(10)"
   ]
  },
  {
   "cell_type": "code",
   "execution_count": null,
   "metadata": {},
   "outputs": [],
   "source": [
    "from functools import singledispatch\n",
    "from collections import abc\n",
    "\n",
    "@singledispatch\n",
    "def test(obj):\n",
    "    return 'test'\n",
    "\n",
    "@test.register(str)\n",
    "def _(text):\n",
    "    return 'test_str'\n",
    "\n",
    "@test.register(list)\n",
    "def _(text):\n",
    "    return 'test_list'\n",
    "\n",
    "\n",
    "@test.register(dict)\n",
    "@test.register(int)\n",
    "def _(text):\n",
    "    return 'test_a'"
   ]
  },
  {
   "cell_type": "code",
   "execution_count": null,
   "metadata": {},
   "outputs": [],
   "source": [
    "test('a')"
   ]
  },
  {
   "cell_type": "code",
   "execution_count": null,
   "metadata": {},
   "outputs": [],
   "source": [
    "import numbers\n",
    "# 获取类C的父类\n",
    "parent_classes = numbers.Integral.__mro__\n",
    "\n",
    "# 打印父类\n",
    "for parent in parent_classes:\n",
    "    print(parent.__name__)"
   ]
  },
  {
   "cell_type": "code",
   "execution_count": null,
   "metadata": {},
   "outputs": [],
   "source": [
    "registry = []\n",
    "def register(func):\n",
    "    print('running register(%s)' % func)\n",
    "    registry.append(func)\n",
    "    return func\n",
    "@register\n",
    "def f1():\n",
    "    print('running f1()')\n",
    "print('running main()')\n",
    "print('registry ->', registry)\n",
    "f1()"
   ]
  },
  {
   "cell_type": "code",
   "execution_count": 43,
   "metadata": {},
   "outputs": [],
   "source": [
    "registry = set()\n",
    "def register(active=True):\n",
    "    def decorate(func):\n",
    "        print('running register(active=%s)->decorate(%s)' % (active, func))\n",
    "        if active:\n",
    "            registry.add(func)\n",
    "        else:\n",
    "            registry.discard(func)\n",
    "        return func\n",
    "    return decorate"
   ]
  },
  {
   "cell_type": "code",
   "execution_count": null,
   "metadata": {},
   "outputs": [],
   "source": [
    "@register(active=False)\n",
    "def f1():\n",
    "    print('running f1()')\n",
    "\n",
    "@register()\n",
    "def f2():\n",
    "    print('running f2()')\n",
    "\n",
    "def f3():\n",
    "    print('running f3()')\n",
    "print(registry)"
   ]
  },
  {
   "cell_type": "code",
   "execution_count": 5,
   "metadata": {},
   "outputs": [],
   "source": [
    "import contextlib\n",
    "\n",
    "@contextlib.contextmanager\n",
    "def looking_glass():\n",
    "    import sys\n",
    "    original_write = sys.stdout.write\n",
    "    def reverse_write(text):\n",
    "        original_write(text[::-1])\n",
    "    sys.stdout.write = reverse_write\n",
    "    yield 'JABBERWORKY'\n",
    "    sys.stdout.write = original_write"
   ]
  },
  {
   "cell_type": "code",
   "execution_count": 6,
   "metadata": {},
   "outputs": [
    {
     "name": "stdout",
     "output_type": "stream",
     "text": [
      "pordwonS dna yttiK ,ecilA\n",
      "YKROWREBBAJ\n"
     ]
    },
    {
     "data": {
      "text/plain": [
       "'JABBERWORKY'"
      ]
     },
     "execution_count": 6,
     "metadata": {},
     "output_type": "execute_result"
    }
   ],
   "source": [
    "with looking_glass() as what:\n",
    "    print('Alice, Kitty and Snowdrop')\n",
    "    print(what)\n",
    "what"
   ]
  },
  {
   "cell_type": "code",
   "execution_count": 24,
   "metadata": {},
   "outputs": [],
   "source": [
    "def simple_coro2(a):\n",
    "    print('-> Started: a =', a)\n",
    "    b = yield a\n",
    "    print('-> Received: b = ', b)\n",
    "    c = yield a + b\n",
    "    print('-> Received: c = ', c)"
   ]
  },
  {
   "cell_type": "code",
   "execution_count": 25,
   "metadata": {},
   "outputs": [
    {
     "name": "stdout",
     "output_type": "stream",
     "text": [
      "-> Started: a = 14\n"
     ]
    },
    {
     "data": {
      "text/plain": [
       "14"
      ]
     },
     "execution_count": 25,
     "metadata": {},
     "output_type": "execute_result"
    }
   ],
   "source": [
    "my_coro2 = simple_coro2(14)\n",
    "next(my_coro2)"
   ]
  },
  {
   "cell_type": "code",
   "execution_count": 10,
   "metadata": {},
   "outputs": [
    {
     "name": "stdout",
     "output_type": "stream",
     "text": [
      "-> Received: b =  28\n"
     ]
    },
    {
     "data": {
      "text/plain": [
       "42"
      ]
     },
     "execution_count": 10,
     "metadata": {},
     "output_type": "execute_result"
    }
   ],
   "source": [
    "my_coro2.send(28)"
   ]
  },
  {
   "cell_type": "code",
   "execution_count": 11,
   "metadata": {},
   "outputs": [
    {
     "name": "stdout",
     "output_type": "stream",
     "text": [
      "-> Received: c =  99\n"
     ]
    },
    {
     "ename": "StopIteration",
     "evalue": "",
     "output_type": "error",
     "traceback": [
      "\u001b[0;31m---------------------------------------------------------------------------\u001b[0m",
      "\u001b[0;31mStopIteration\u001b[0m                             Traceback (most recent call last)",
      "Input \u001b[0;32mIn [11]\u001b[0m, in \u001b[0;36m<cell line: 1>\u001b[0;34m()\u001b[0m\n\u001b[0;32m----> 1\u001b[0m \u001b[43mmy_coro2\u001b[49m\u001b[38;5;241;43m.\u001b[39;49m\u001b[43msend\u001b[49m\u001b[43m(\u001b[49m\u001b[38;5;241;43m99\u001b[39;49m\u001b[43m)\u001b[49m\n",
      "\u001b[0;31mStopIteration\u001b[0m: "
     ]
    }
   ],
   "source": [
    "my_coro2.send(99)"
   ]
  },
  {
   "cell_type": "code",
   "execution_count": 29,
   "metadata": {},
   "outputs": [],
   "source": [
    "def averager():\n",
    "    total = 0.0\n",
    "    count = 0\n",
    "    averager = None\n",
    "    while True:\n",
    "        print('count is ', count)\n",
    "        term = yield averager\n",
    "        total += term\n",
    "        count += 1\n",
    "        averager = total / count"
   ]
  },
  {
   "cell_type": "code",
   "execution_count": 30,
   "metadata": {},
   "outputs": [
    {
     "name": "stdout",
     "output_type": "stream",
     "text": [
      "count is  0\n"
     ]
    }
   ],
   "source": [
    "coro_avg = averager()\n",
    "next(coro_avg)"
   ]
  },
  {
   "cell_type": "code",
   "execution_count": 31,
   "metadata": {},
   "outputs": [
    {
     "name": "stdout",
     "output_type": "stream",
     "text": [
      "count is  1\n"
     ]
    },
    {
     "data": {
      "text/plain": [
       "10.0"
      ]
     },
     "execution_count": 31,
     "metadata": {},
     "output_type": "execute_result"
    }
   ],
   "source": [
    "coro_avg.send(10)"
   ]
  },
  {
   "cell_type": "code",
   "execution_count": 32,
   "metadata": {},
   "outputs": [],
   "source": [
    "from functools import wraps\n",
    "\n",
    "def coroutine(func):\n",
    "    @wraps(func)\n",
    "    def primer(*args, **kwargs):\n",
    "        gen = func(*args, **kwargs)\n",
    "        next(gen)\n",
    "        return gen\n",
    "    return primer"
   ]
  },
  {
   "cell_type": "code",
   "execution_count": 33,
   "metadata": {},
   "outputs": [],
   "source": [
    "@coroutine\n",
    "def averager():\n",
    "    total = 0.0\n",
    "    count = 0\n",
    "    averager = None\n",
    "    while True:\n",
    "        print('count is ', count)\n",
    "        term = yield averager\n",
    "        total += term\n",
    "        count += 1\n",
    "        averager = total / count"
   ]
  },
  {
   "cell_type": "code",
   "execution_count": 34,
   "metadata": {},
   "outputs": [
    {
     "name": "stdout",
     "output_type": "stream",
     "text": [
      "count is  0\n"
     ]
    }
   ],
   "source": [
    "coro_avg = averager()"
   ]
  },
  {
   "cell_type": "code",
   "execution_count": 35,
   "metadata": {},
   "outputs": [
    {
     "name": "stdout",
     "output_type": "stream",
     "text": [
      "count is  1\n"
     ]
    },
    {
     "data": {
      "text/plain": [
       "10.0"
      ]
     },
     "execution_count": 35,
     "metadata": {},
     "output_type": "execute_result"
    }
   ],
   "source": [
    "coro_avg.send(10)"
   ]
  },
  {
   "cell_type": "code",
   "execution_count": 36,
   "metadata": {},
   "outputs": [
    {
     "name": "stdout",
     "output_type": "stream",
     "text": [
      "count is  2\n"
     ]
    },
    {
     "data": {
      "text/plain": [
       "20.0"
      ]
     },
     "execution_count": 36,
     "metadata": {},
     "output_type": "execute_result"
    }
   ],
   "source": [
    "coro_avg.send(30)"
   ]
  },
  {
   "cell_type": "code",
   "execution_count": 37,
   "metadata": {},
   "outputs": [
    {
     "name": "stdout",
     "output_type": "stream",
     "text": [
      "count is  3\n"
     ]
    },
    {
     "data": {
      "text/plain": [
       "15.0"
      ]
     },
     "execution_count": 37,
     "metadata": {},
     "output_type": "execute_result"
    }
   ],
   "source": [
    "coro_avg.send(5)"
   ]
  },
  {
   "cell_type": "code",
   "execution_count": null,
   "metadata": {},
   "outputs": [],
   "source": []
  }
 ],
 "metadata": {
  "kernelspec": {
   "display_name": "base",
   "language": "python",
   "name": "python3"
  },
  "language_info": {
   "codemirror_mode": {
    "name": "ipython",
    "version": 3
   },
   "file_extension": ".py",
   "mimetype": "text/x-python",
   "name": "python",
   "nbconvert_exporter": "python",
   "pygments_lexer": "ipython3",
   "version": "3.9.12"
  }
 },
 "nbformat": 4,
 "nbformat_minor": 2
}
