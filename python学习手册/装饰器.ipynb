{
 "cells": [
  {
   "cell_type": "code",
   "execution_count": 11,
   "metadata": {},
   "outputs": [],
   "source": [
    "def deco(func):\n",
    "    def inner():\n",
    "        func()\n",
    "        print('running inner()')\n",
    "    return inner"
   ]
  },
  {
   "cell_type": "code",
   "execution_count": 12,
   "metadata": {},
   "outputs": [],
   "source": [
    "@deco\n",
    "def target():\n",
    "    print('running target()')"
   ]
  },
  {
   "cell_type": "code",
   "execution_count": 13,
   "metadata": {},
   "outputs": [
    {
     "name": "stdout",
     "output_type": "stream",
     "text": [
      "running target()\n",
      "running inner()\n"
     ]
    }
   ],
   "source": [
    "target()"
   ]
  },
  {
   "cell_type": "code",
   "execution_count": 21,
   "metadata": {},
   "outputs": [
    {
     "name": "stdout",
     "output_type": "stream",
     "text": [
      "running register(<function A.f1 at 0x10c7b35e0>)\n",
      "running register(<function A.f2 at 0x10c7b3310>)\n",
      "[<function A.f1 at 0x10c7b35e0>, <function A.f2 at 0x10c7b3310>]\n"
     ]
    }
   ],
   "source": [
    "registry = []\n",
    "def register(func):\n",
    "    print('running register(%s)' % func)\n",
    "    registry.append(func)\n",
    "    return func\n",
    "\n",
    "class A():\n",
    "\n",
    "    @register\n",
    "    def f1(self):\n",
    "        print('running f1()')\n",
    "\n",
    "    @register\n",
    "    def f2(self):\n",
    "        print('running f2()')\n",
    "\n",
    "    def f3(self):\n",
    "        print('running f3()')\n",
    "\n",
    "print(registry)"
   ]
  },
  {
   "cell_type": "code",
   "execution_count": null,
   "metadata": {},
   "outputs": [],
   "source": [
    "def make_averager():\n",
    "    series = []\n",
    "\n",
    "    def averager(new_value):\n",
    "        series.append(new_value)\n",
    "        total = sum(series)\n",
    "        return total / len(series)\n",
    "\n",
    "    return averager"
   ]
  },
  {
   "cell_type": "code",
   "execution_count": 3,
   "metadata": {},
   "outputs": [
    {
     "name": "stdout",
     "output_type": "stream",
     "text": [
      "0.0, 100.0\n",
      "0.5, 100.5\n",
      "1.0, 101.0\n",
      "1.5, 101.5\n",
      "2.0, 102.0\n",
      "2.5, 102.5\n",
      "3.0, 103.0\n",
      "3.5, 103.5\n",
      "4.0, 104.0\n",
      "4.5, 104.5\n"
     ]
    }
   ],
   "source": [
    "avg_1 = make_averager()\n",
    "avg_2 = make_averager()\n",
    "\n",
    "for i in range(10):\n",
    "    print(avg_1(i), end=', ')\n",
    "    print(avg_2(i+100))"
   ]
  },
  {
   "cell_type": "code",
   "execution_count": 6,
   "metadata": {},
   "outputs": [],
   "source": [
    "def make_averager():\n",
    "    count = 0\n",
    "    total = 0\n",
    "\n",
    "    def averager(new_value):\n",
    "        nonlocal count, total\n",
    "        count += 1\n",
    "        total += new_value\n",
    "        return total / count\n",
    "\n",
    "    return averager"
   ]
  },
  {
   "cell_type": "code",
   "execution_count": 7,
   "metadata": {},
   "outputs": [
    {
     "data": {
      "text/plain": [
       "10.0"
      ]
     },
     "execution_count": 7,
     "metadata": {},
     "output_type": "execute_result"
    }
   ],
   "source": [
    "avg = make_averager()\n",
    "avg(10)"
   ]
  },
  {
   "cell_type": "code",
   "execution_count": 10,
   "metadata": {},
   "outputs": [],
   "source": [
    "import time\n",
    "\n",
    "def clock(func):\n",
    "    def clocked(*args):\n",
    "        t0 = time.perf_counter()\n",
    "        result = func(*args)\n",
    "        elapsed = time.perf_counter() - t0\n",
    "        name = func.__name__\n",
    "        arg_str = ', '.join(repr(arg) for arg in args)\n",
    "        print('[%0.8fs] %s(%s) -> %r' % (elapsed, name, arg_str, result))\n",
    "        return result\n",
    "    return clocked"
   ]
  },
  {
   "cell_type": "code",
   "execution_count": 17,
   "metadata": {},
   "outputs": [
    {
     "name": "stdout",
     "output_type": "stream",
     "text": [
      "**************************************** Calling snooze(.123)\n",
      "[0.12475991s] snooze(0.123) -> None\n",
      "**************************************** Calling factorial(6)\n",
      "[0.00000000s] factorial(1) -> 1\n",
      "[0.00000525s] factorial(2) -> 2\n",
      "[0.00000930s] factorial(3) -> 6\n",
      "[0.00001216s] factorial(4) -> 24\n",
      "[0.00001574s] factorial(5) -> 120\n",
      "[0.00001884s] factorial(6) -> 720\n",
      "6! = 720\n"
     ]
    }
   ],
   "source": [
    "@clock\n",
    "def snooze(seconds):\n",
    "    time.sleep(seconds)\n",
    "\n",
    "@clock\n",
    "def factorial(n):\n",
    "    return 1 if n < 2 else n * factorial(n-1)\n",
    "\n",
    "print('*' * 40, 'Calling snooze(.123)')\n",
    "snooze(.123)\n",
    "print('*' * 40, 'Calling factorial(6)')\n",
    "print('6! =', factorial(6))"
   ]
  },
  {
   "cell_type": "code",
   "execution_count": 16,
   "metadata": {},
   "outputs": [],
   "source": [
    "import time\n",
    "import functools\n",
    "\n",
    "def clock(func):\n",
    "    @functools.wraps(func)\n",
    "    def clocked(*args, **kwargs):\n",
    "        t0 = time.time()\n",
    "        result = func(*args, **kwargs)\n",
    "        elapsed = time.time() - t0\n",
    "        name = func.__name__\n",
    "        arg_list = []\n",
    "        if args:\n",
    "            arg_list.append(', '.join(repr(arg) for arg in args))\n",
    "        if kwargs:\n",
    "            pairs = ['%s=%r' % (k, w) for k, w in sorted(kwargs.items())]\n",
    "            arg_list.append(', '.join(pairs))\n",
    "        arg_str = ', '.join(repr(arg) for arg in args)\n",
    "        print('[%0.8fs] %s(%s) -> %r' % (elapsed, name, arg_str, result))\n",
    "        return result\n",
    "    return clocked"
   ]
  },
  {
   "cell_type": "markdown",
   "metadata": {},
   "source": [
    "functools.lru_cache 是非常实用的装饰器，它实现了备忘（memoization）功能"
   ]
  },
  {
   "cell_type": "code",
   "execution_count": 22,
   "metadata": {},
   "outputs": [
    {
     "name": "stdout",
     "output_type": "stream",
     "text": [
      "[0.00000095s] fibonacci(0) -> 0\n",
      "[0.00000095s] fibonacci(1) -> 1\n",
      "[0.00004506s] fibonacci(2) -> 1\n",
      "[0.00000000s] fibonacci(1) -> 1\n",
      "[0.00000119s] fibonacci(0) -> 0\n",
      "[0.00000000s] fibonacci(1) -> 1\n",
      "[0.00000715s] fibonacci(2) -> 1\n",
      "[0.00001383s] fibonacci(3) -> 2\n",
      "[0.00006700s] fibonacci(4) -> 3\n",
      "[0.00000000s] fibonacci(1) -> 1\n",
      "[0.00000000s] fibonacci(0) -> 0\n",
      "[0.00000000s] fibonacci(1) -> 1\n",
      "[0.00000620s] fibonacci(2) -> 1\n",
      "[0.00001287s] fibonacci(3) -> 2\n",
      "[0.00000000s] fibonacci(0) -> 0\n",
      "[0.00000000s] fibonacci(1) -> 1\n",
      "[0.00000596s] fibonacci(2) -> 1\n",
      "[0.00000000s] fibonacci(1) -> 1\n",
      "[0.00000000s] fibonacci(0) -> 0\n",
      "[0.00000095s] fibonacci(1) -> 1\n",
      "[0.00000787s] fibonacci(2) -> 1\n",
      "[0.00001502s] fibonacci(3) -> 2\n",
      "[0.00002789s] fibonacci(4) -> 3\n",
      "[0.00004697s] fibonacci(5) -> 5\n",
      "[0.00012016s] fibonacci(6) -> 8\n",
      "[0.00000000s] fibonacci(1) -> 1\n",
      "[0.00000000s] fibonacci(0) -> 0\n",
      "[0.00000095s] fibonacci(1) -> 1\n",
      "[0.00000811s] fibonacci(2) -> 1\n",
      "[0.00001383s] fibonacci(3) -> 2\n",
      "[0.00000000s] fibonacci(0) -> 0\n",
      "[0.00000000s] fibonacci(1) -> 1\n",
      "[0.00000596s] fibonacci(2) -> 1\n",
      "[0.00000000s] fibonacci(1) -> 1\n",
      "[0.00000000s] fibonacci(0) -> 0\n",
      "[0.00000000s] fibonacci(1) -> 1\n",
      "[0.00000691s] fibonacci(2) -> 1\n",
      "[0.00001311s] fibonacci(3) -> 2\n",
      "[0.00002575s] fibonacci(4) -> 3\n",
      "[0.00004768s] fibonacci(5) -> 5\n",
      "[0.00000000s] fibonacci(0) -> 0\n",
      "[0.00000000s] fibonacci(1) -> 1\n",
      "[0.00000572s] fibonacci(2) -> 1\n",
      "[0.00000095s] fibonacci(1) -> 1\n",
      "[0.00000000s] fibonacci(0) -> 0\n",
      "[0.00000000s] fibonacci(1) -> 1\n",
      "[0.00000596s] fibonacci(2) -> 1\n",
      "[0.00001311s] fibonacci(3) -> 2\n",
      "[0.00002599s] fibonacci(4) -> 3\n",
      "[0.00000000s] fibonacci(1) -> 1\n",
      "[0.00000000s] fibonacci(0) -> 0\n",
      "[0.00000000s] fibonacci(1) -> 1\n",
      "[0.00000572s] fibonacci(2) -> 1\n",
      "[0.00001192s] fibonacci(3) -> 2\n",
      "[0.00000000s] fibonacci(0) -> 0\n",
      "[0.00000000s] fibonacci(1) -> 1\n",
      "[0.00000572s] fibonacci(2) -> 1\n",
      "[0.00000000s] fibonacci(1) -> 1\n",
      "[0.00000000s] fibonacci(0) -> 0\n",
      "[0.00000000s] fibonacci(1) -> 1\n",
      "[0.00000715s] fibonacci(2) -> 1\n",
      "[0.00001383s] fibonacci(3) -> 2\n",
      "[0.00002694s] fibonacci(4) -> 3\n",
      "[0.00004601s] fibonacci(5) -> 5\n",
      "[0.00007820s] fibonacci(6) -> 8\n",
      "[0.00013185s] fibonacci(7) -> 13\n",
      "[0.00025892s] fibonacci(8) -> 21\n",
      "[0.00000000s] fibonacci(1) -> 1\n",
      "[0.00000000s] fibonacci(0) -> 0\n",
      "[0.00000000s] fibonacci(1) -> 1\n",
      "[0.00000596s] fibonacci(2) -> 1\n",
      "[0.00001264s] fibonacci(3) -> 2\n",
      "[0.00000000s] fibonacci(0) -> 0\n",
      "[0.00000000s] fibonacci(1) -> 1\n",
      "[0.00000691s] fibonacci(2) -> 1\n",
      "[0.00000000s] fibonacci(1) -> 1\n",
      "[0.00000000s] fibonacci(0) -> 0\n",
      "[0.00000000s] fibonacci(1) -> 1\n",
      "[0.00001311s] fibonacci(2) -> 1\n",
      "[0.00001907s] fibonacci(3) -> 2\n",
      "[0.00003195s] fibonacci(4) -> 3\n",
      "[0.00005078s] fibonacci(5) -> 5\n",
      "[0.00000000s] fibonacci(0) -> 0\n",
      "[0.00000000s] fibonacci(1) -> 1\n",
      "[0.00000691s] fibonacci(2) -> 1\n",
      "[0.00000000s] fibonacci(1) -> 1\n",
      "[0.00000000s] fibonacci(0) -> 0\n",
      "[0.00000000s] fibonacci(1) -> 1\n",
      "[0.00000715s] fibonacci(2) -> 1\n",
      "[0.00001287s] fibonacci(3) -> 2\n",
      "[0.00002599s] fibonacci(4) -> 3\n",
      "[0.00000000s] fibonacci(1) -> 1\n",
      "[0.00000000s] fibonacci(0) -> 0\n",
      "[0.00000000s] fibonacci(1) -> 1\n",
      "[0.00000596s] fibonacci(2) -> 1\n",
      "[0.00001287s] fibonacci(3) -> 2\n",
      "[0.00000000s] fibonacci(0) -> 0\n",
      "[0.00000000s] fibonacci(1) -> 1\n",
      "[0.00000715s] fibonacci(2) -> 1\n",
      "[0.00000000s] fibonacci(1) -> 1\n",
      "[0.00000095s] fibonacci(0) -> 0\n",
      "[0.00000000s] fibonacci(1) -> 1\n",
      "[0.00000691s] fibonacci(2) -> 1\n",
      "[0.00001311s] fibonacci(3) -> 2\n",
      "[0.00002623s] fibonacci(4) -> 3\n",
      "[0.00004482s] fibonacci(5) -> 5\n",
      "[0.00007796s] fibonacci(6) -> 8\n",
      "[0.00013375s] fibonacci(7) -> 13\n",
      "[0.00000000s] fibonacci(0) -> 0\n",
      "[0.00000000s] fibonacci(1) -> 1\n",
      "[0.00000691s] fibonacci(2) -> 1\n",
      "[0.00000000s] fibonacci(1) -> 1\n",
      "[0.00000095s] fibonacci(0) -> 0\n",
      "[0.00000000s] fibonacci(1) -> 1\n",
      "[0.00000715s] fibonacci(2) -> 1\n",
      "[0.00001287s] fibonacci(3) -> 2\n",
      "[0.00002599s] fibonacci(4) -> 3\n",
      "[0.00000095s] fibonacci(1) -> 1\n",
      "[0.00000000s] fibonacci(0) -> 0\n",
      "[0.00000000s] fibonacci(1) -> 1\n",
      "[0.00000596s] fibonacci(2) -> 1\n",
      "[0.00001287s] fibonacci(3) -> 2\n",
      "[0.00000119s] fibonacci(0) -> 0\n",
      "[0.00000000s] fibonacci(1) -> 1\n",
      "[0.00000715s] fibonacci(2) -> 1\n",
      "[0.00000000s] fibonacci(1) -> 1\n",
      "[0.00000000s] fibonacci(0) -> 0\n",
      "[0.00000000s] fibonacci(1) -> 1\n",
      "[0.00000620s] fibonacci(2) -> 1\n",
      "[0.00001287s] fibonacci(3) -> 2\n",
      "[0.00002623s] fibonacci(4) -> 3\n",
      "[0.00004506s] fibonacci(5) -> 5\n",
      "[0.00007677s] fibonacci(6) -> 8\n",
      "[0.00000000s] fibonacci(1) -> 1\n",
      "[0.00000119s] fibonacci(0) -> 0\n",
      "[0.00000000s] fibonacci(1) -> 1\n",
      "[0.00000691s] fibonacci(2) -> 1\n",
      "[0.00001311s] fibonacci(3) -> 2\n",
      "[0.00000000s] fibonacci(0) -> 0\n",
      "[0.00000000s] fibonacci(1) -> 1\n",
      "[0.00000596s] fibonacci(2) -> 1\n",
      "[0.00000000s] fibonacci(1) -> 1\n",
      "[0.00000000s] fibonacci(0) -> 0\n",
      "[0.00000000s] fibonacci(1) -> 1\n",
      "[0.00000596s] fibonacci(2) -> 1\n",
      "[0.00001287s] fibonacci(3) -> 2\n",
      "[0.00002480s] fibonacci(4) -> 3\n",
      "[0.00004411s] fibonacci(5) -> 5\n",
      "[0.00000000s] fibonacci(0) -> 0\n",
      "[0.00000000s] fibonacci(1) -> 1\n",
      "[0.00000596s] fibonacci(2) -> 1\n",
      "[0.00000095s] fibonacci(1) -> 1\n",
      "[0.00000000s] fibonacci(0) -> 0\n",
      "[0.00000000s] fibonacci(1) -> 1\n",
      "[0.00000620s] fibonacci(2) -> 1\n",
      "[0.00001311s] fibonacci(3) -> 2\n",
      "[0.00002575s] fibonacci(4) -> 3\n",
      "[0.00000000s] fibonacci(1) -> 1\n",
      "[0.00000000s] fibonacci(0) -> 0\n",
      "[0.00000000s] fibonacci(1) -> 1\n",
      "[0.00000596s] fibonacci(2) -> 1\n",
      "[0.00001311s] fibonacci(3) -> 2\n",
      "[0.00000000s] fibonacci(0) -> 0\n",
      "[0.00000000s] fibonacci(1) -> 1\n",
      "[0.00000620s] fibonacci(2) -> 1\n",
      "[0.00000095s] fibonacci(1) -> 1\n",
      "[0.00000000s] fibonacci(0) -> 0\n",
      "[0.00000095s] fibonacci(1) -> 1\n",
      "[0.00000715s] fibonacci(2) -> 1\n",
      "[0.00001383s] fibonacci(3) -> 2\n",
      "[0.00002623s] fibonacci(4) -> 3\n",
      "[0.00004625s] fibonacci(5) -> 5\n",
      "[0.00007772s] fibonacci(6) -> 8\n",
      "[0.00012803s] fibonacci(7) -> 13\n",
      "[0.00021100s] fibonacci(8) -> 21\n",
      "[0.00035310s] fibonacci(9) -> 34\n",
      "[0.00062013s] fibonacci(10) -> 55\n"
     ]
    },
    {
     "data": {
      "text/plain": [
       "55"
      ]
     },
     "execution_count": 22,
     "metadata": {},
     "output_type": "execute_result"
    }
   ],
   "source": [
    "@clock\n",
    "def fibonacci(n):\n",
    "    if n < 2:\n",
    "        return n\n",
    "    return fibonacci(n-2) + fibonacci(n-1)\n",
    "\n",
    "fibonacci(10)"
   ]
  },
  {
   "cell_type": "code",
   "execution_count": 23,
   "metadata": {},
   "outputs": [
    {
     "name": "stdout",
     "output_type": "stream",
     "text": [
      "[0.00000000s] fibonacci(0) -> 0\n",
      "[0.00000000s] fibonacci(1) -> 1\n",
      "[0.00002503s] fibonacci(2) -> 1\n",
      "[0.00000000s] fibonacci(3) -> 2\n",
      "[0.00003099s] fibonacci(4) -> 3\n",
      "[0.00000000s] fibonacci(5) -> 5\n",
      "[0.00003695s] fibonacci(6) -> 8\n",
      "[0.00000000s] fibonacci(7) -> 13\n",
      "[0.00004244s] fibonacci(8) -> 21\n",
      "[0.00000000s] fibonacci(9) -> 34\n",
      "[0.00004721s] fibonacci(10) -> 55\n"
     ]
    },
    {
     "data": {
      "text/plain": [
       "55"
      ]
     },
     "execution_count": 23,
     "metadata": {},
     "output_type": "execute_result"
    }
   ],
   "source": [
    "@functools.lru_cache()\n",
    "@clock\n",
    "def fibonacci(n):\n",
    "    if n < 2:\n",
    "        return n\n",
    "    return fibonacci(n-2) + fibonacci(n-1)\n",
    "\n",
    "fibonacci(10)"
   ]
  },
  {
   "cell_type": "code",
   "execution_count": null,
   "metadata": {},
   "outputs": [],
   "source": [
    "from functools import singledispatch\n",
    "from collections import abc\n",
    "\n",
    "@singledispatch\n",
    "def test(obj):\n",
    "    return 'test'\n",
    "\n",
    "@test.register(str)\n",
    "def _(text):\n",
    "    return 'test_str'\n",
    "\n",
    "@test.register(list)\n",
    "def _(text):\n",
    "    return 'test_list'\n",
    "\n",
    "\n",
    "@test.register(dict)\n",
    "@test.register(int)\n",
    "def _(text):\n",
    "    return 'test_a'"
   ]
  },
  {
   "cell_type": "code",
   "execution_count": 27,
   "metadata": {},
   "outputs": [
    {
     "data": {
      "text/plain": [
       "'test_str'"
      ]
     },
     "execution_count": 27,
     "metadata": {},
     "output_type": "execute_result"
    }
   ],
   "source": [
    "test('a')"
   ]
  },
  {
   "cell_type": "code",
   "execution_count": 32,
   "metadata": {},
   "outputs": [
    {
     "name": "stdout",
     "output_type": "stream",
     "text": [
      "Integral\n",
      "Rational\n",
      "Real\n",
      "Complex\n",
      "Number\n",
      "object\n"
     ]
    }
   ],
   "source": [
    "import numbers\n",
    "# 获取类C的父类\n",
    "parent_classes = numbers.Integral.__mro__\n",
    "\n",
    "# 打印父类\n",
    "for parent in parent_classes:\n",
    "    print(parent.__name__)"
   ]
  },
  {
   "cell_type": "code",
   "execution_count": 34,
   "metadata": {},
   "outputs": [
    {
     "name": "stdout",
     "output_type": "stream",
     "text": [
      "running register(<function f1 at 0x112f57ee0>)\n",
      "running main()\n",
      "registry -> [<function f1 at 0x112f57ee0>]\n",
      "running f1()\n"
     ]
    }
   ],
   "source": [
    "registry = []\n",
    "def register(func):\n",
    "    print('running register(%s)' % func)\n",
    "    registry.append(func)\n",
    "    return func\n",
    "@register\n",
    "def f1():\n",
    "    print('running f1()')\n",
    "print('running main()')\n",
    "print('registry ->', registry)\n",
    "f1()"
   ]
  },
  {
   "cell_type": "code",
   "execution_count": null,
   "metadata": {},
   "outputs": [],
   "source": []
  }
 ],
 "metadata": {
  "kernelspec": {
   "display_name": "base",
   "language": "python",
   "name": "python3"
  },
  "language_info": {
   "codemirror_mode": {
    "name": "ipython",
    "version": 3
   },
   "file_extension": ".py",
   "mimetype": "text/x-python",
   "name": "python",
   "nbconvert_exporter": "python",
   "pygments_lexer": "ipython3",
   "version": "3.9.12"
  }
 },
 "nbformat": 4,
 "nbformat_minor": 2
}
