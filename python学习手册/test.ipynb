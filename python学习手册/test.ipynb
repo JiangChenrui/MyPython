{
 "cells": [
  {
   "cell_type": "markdown",
   "id": "97e48ff4-bf7d-41e9-bbdb-d901b22246f3",
   "metadata": {},
   "source": [
    "# python日常使用\n",
    "* python激活虚拟环境\n",
    "\n",
    "    `source <环境名称>/bin/activate`\n",
    "* 退出虚拟环境\n",
    "\n",
    "    `deactivate`"
   ]
  },
  {
   "cell_type": "code",
   "execution_count": 22,
   "id": "78adbd99-0e7c-4244-b5e5-73f5962f3815",
   "metadata": {},
   "outputs": [
    {
     "name": "stderr",
     "output_type": "stream",
     "text": [
      "2025-10-14 17:03:12,339 - INFO - This message will appear in terminal.\n"
     ]
    }
   ],
   "source": [
    "# log日志\n",
    "import logging\n",
    "import datetime\n",
    "import time\n",
    "\n",
    "# 基本配置（推荐）\n",
    "logging.basicConfig(\n",
    "    level=logging.INFO,\n",
    "    format=\"%(asctime)s - %(levelname)s - %(message)s\",\n",
    "    handlers=[logging.StreamHandler()]  # 输出到终端\n",
    ")\n",
    "\n",
    "logging.info(\"This message will appear in terminal.\")"
   ]
  },
  {
   "cell_type": "code",
   "execution_count": 27,
   "id": "86c58a7d-69e7-4d4c-bf55-a4490e7dfa4f",
   "metadata": {},
   "outputs": [],
   "source": [
    "def get_week_number_from_timestamp(timestamp):\n",
    "    \"\"\"\n",
    "    根据时间戳获取对应的周数\n",
    "    \n",
    "    参数:\n",
    "    timestamp -- Unix时间戳（秒级或毫秒级会自动处理）\n",
    "    \n",
    "    返回:\n",
    "    一个包含年份和周数的元组 (year, week_number)\n",
    "    \"\"\"\n",
    "    # 处理毫秒级时间戳（如果长度超过10位则认为是毫秒级）\n",
    "    if len(str(timestamp)) > 10:\n",
    "        timestamp = timestamp / 1000\n",
    "    \n",
    "    # 将时间戳转换为datetime对象\n",
    "    dt = datetime.datetime.fromtimestamp(timestamp)\n",
    "    \n",
    "    # 获取ISO周数（返回元组(year, week_number, day_of_week)）\n",
    "    iso_week = dt.isocalendar()\n",
    "    \n",
    "    return iso_week[1]  # 周数"
   ]
  },
  {
   "cell_type": "markdown",
   "id": "e9035131-ba86-41e6-a7f8-f25d3fb09c03",
   "metadata": {},
   "source": [
    "公会的season每周二宝箱重置的时候一起重置，玩家的season在登录后与公会season对比，不一致时重置\n",
    "公会设置活动结束时间，结束后记录日志并生成新的活动结束时间"
   ]
  },
  {
   "cell_type": "code",
   "execution_count": null,
   "id": "ca24b66a-a94e-42dc-9c03-e754d9b292b8",
   "metadata": {},
   "outputs": [],
   "source": [
    "CLUB_CLASH_RANKING_GROUP_ID_INCRY_KEY = \"club_clash_ranking_group_id_incry_key:{season}:{room_level}\"\n"
   ]
  }
 ],
 "metadata": {
  "kernelspec": {
   "display_name": "py3-env",
   "language": "python",
   "name": "py3-env"
  },
  "language_info": {
   "codemirror_mode": {
    "name": "ipython",
    "version": 3
   },
   "file_extension": ".py",
   "mimetype": "text/x-python",
   "name": "python",
   "nbconvert_exporter": "python",
   "pygments_lexer": "ipython3",
   "version": "3.11.2"
  }
 },
 "nbformat": 4,
 "nbformat_minor": 5
}
