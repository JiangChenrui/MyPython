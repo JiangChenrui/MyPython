{
 "cells": [
  {
   "cell_type": "markdown",
   "id": "97e48ff4-bf7d-41e9-bbdb-d901b22246f3",
   "metadata": {},
   "source": [
    "# python日常使用\n",
    "* python激活虚拟环境\n",
    "\n",
    "    `source <环境名称>/bin/activate`\n",
    "* 退出虚拟环境\n",
    "\n",
    "    `deactivate`"
   ]
  },
  {
   "cell_type": "code",
   "execution_count": 2,
   "id": "78adbd99-0e7c-4244-b5e5-73f5962f3815",
   "metadata": {},
   "outputs": [
    {
     "name": "stderr",
     "output_type": "stream",
     "text": [
      "2025-10-13 11:53:11,049 - INFO - This message will appear in terminal.\n"
     ]
    }
   ],
   "source": [
    "# log日志\n",
    "import logging\n",
    "\n",
    "# 基本配置（推荐）\n",
    "logging.basicConfig(\n",
    "    level=logging.INFO,\n",
    "    format=\"%(asctime)s - %(levelname)s - %(message)s\",\n",
    "    handlers=[logging.StreamHandler()]  # 输出到终端\n",
    ")\n",
    "\n",
    "logging.info(\"This message will appear in terminal.\")\n"
   ]
  },
  {
   "cell_type": "code",
   "execution_count": null,
   "id": "86c58a7d-69e7-4d4c-bf55-a4490e7dfa4f",
   "metadata": {},
   "outputs": [],
   "source": []
  },
  {
   "cell_type": "code",
   "execution_count": null,
   "id": "98e78115-d956-4678-9950-c31f9f49ec27",
   "metadata": {},
   "outputs": [],
   "source": []
  }
 ],
 "metadata": {
  "kernelspec": {
   "display_name": "py3-env",
   "language": "python",
   "name": "py3-env"
  },
  "language_info": {
   "codemirror_mode": {
    "name": "ipython",
    "version": 3
   },
   "file_extension": ".py",
   "mimetype": "text/x-python",
   "name": "python",
   "nbconvert_exporter": "python",
   "pygments_lexer": "ipython3",
   "version": "3.11.2"
  }
 },
 "nbformat": 4,
 "nbformat_minor": 5
}
