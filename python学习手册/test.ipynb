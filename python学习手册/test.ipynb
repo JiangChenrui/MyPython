{
 "cells": [
  {
   "cell_type": "markdown",
   "id": "97e48ff4-bf7d-41e9-bbdb-d901b22246f3",
   "metadata": {},
   "source": [
    "# python日常使用\n",
    "* python激活虚拟环境\n",
    "\n",
    "    `source <环境名称>/bin/activate`\n",
    "* 退出虚拟环境\n",
    "\n",
    "    `deactivate`"
   ]
  },
  {
   "cell_type": "code",
   "execution_count": 22,
   "id": "78adbd99-0e7c-4244-b5e5-73f5962f3815",
   "metadata": {},
   "outputs": [
    {
     "name": "stderr",
     "output_type": "stream",
     "text": [
      "2025-10-14 17:03:12,339 - INFO - This message will appear in terminal.\n"
     ]
    }
   ],
   "source": [
    "# log日志\n",
    "import logging\n",
    "import datetime\n",
    "import time\n",
    "\n",
    "# 基本配置（推荐）\n",
    "logging.basicConfig(\n",
    "    level=logging.INFO,\n",
    "    format=\"%(asctime)s - %(levelname)s - %(message)s\",\n",
    "    handlers=[logging.StreamHandler()]  # 输出到终端\n",
    ")\n",
    "\n",
    "logging.info(\"This message will appear in terminal.\")"
   ]
  },
  {
   "cell_type": "code",
   "execution_count": 27,
   "id": "86c58a7d-69e7-4d4c-bf55-a4490e7dfa4f",
   "metadata": {},
   "outputs": [],
   "source": [
    "def get_week_number_from_timestamp(timestamp):\n",
    "    \"\"\"\n",
    "    根据时间戳获取对应的周数\n",
    "    \n",
    "    参数:\n",
    "    timestamp -- Unix时间戳（秒级或毫秒级会自动处理）\n",
    "    \n",
    "    返回:\n",
    "    一个包含年份和周数的元组 (year, week_number)\n",
    "    \"\"\"\n",
    "    # 处理毫秒级时间戳（如果长度超过10位则认为是毫秒级）\n",
    "    if len(str(timestamp)) > 10:\n",
    "        timestamp = timestamp / 1000\n",
    "    \n",
    "    # 将时间戳转换为datetime对象\n",
    "    dt = datetime.datetime.fromtimestamp(timestamp)\n",
    "    \n",
    "    # 获取ISO周数（返回元组(year, week_number, day_of_week)）\n",
    "    iso_week = dt.isocalendar()\n",
    "    \n",
    "    return iso_week[1]  # 周数"
   ]
  },
  {
   "cell_type": "markdown",
   "id": "e9035131-ba86-41e6-a7f8-f25d3fb09c03",
   "metadata": {},
   "source": [
    "以活动结束时间作为season，玩家title在活动开始时重置\n",
    "* 公会内排行榜:\n",
    "1. 进出公会删除玩家\n",
    "2. 公会人数<=3人，最后一名无奖励\n",
    "3. 领奖门槛3000点火焰\n",
    "* 公会之间排行榜\n",
    "1. 重置逻辑，当前活动结束时间戳小于记录的时间戳\n",
    "2. 一周bc火焰定档\n",
    "3. 分组逻辑先定档然后记录定档数据，之后看是否有分组Id，有id直接进对应的组取数据，没id用redis自增id获取id，id/10为group id\n",
    "4. 使用活动结束时间作为赛季\n",
    "5. 领奖门槛公会目标/50\n",
    "6. 退出公会"
   ]
  },
  {
   "cell_type": "code",
   "execution_count": null,
   "id": "ca24b66a-a94e-42dc-9c03-e754d9b292b8",
   "metadata": {},
   "outputs": [],
   "source": [
    "CLUB_CLASH_RANKING_INCRY_KEY = 'club_incry_key:{season}:{ranking_level}'\n",
    "CLUB_CLASH_RANKING_GROUP_USER_NUM = 'club_gruop_user_num:{season}:{ranking_level}:{group_id}'\n",
    "CLUB_CLASH_RANKING_GRUOP_ID_KEY = 'ranking:group-id:{name}:{season}:{group_id}'"
   ]
  },
  {
   "cell_type": "code",
   "execution_count": 29,
   "id": "3c0632a5-f49e-4b7d-a599-6bd388db7e44",
   "metadata": {},
   "outputs": [
    {
     "data": {
      "text/plain": [
       "1760630400"
      ]
     },
     "execution_count": 29,
     "metadata": {},
     "output_type": "execute_result"
    }
   ],
   "source": [
    "import datetime\n",
    "import time\n",
    "\n",
    "def get_next_friday_timestamp():\n",
    "    now = datetime.datetime.now()\n",
    "    # 获取当前星期几（周一为0，周日为6）\n",
    "    current_weekday = now.weekday()\n",
    "    # 计算距离下一个周五的天数（周五的weekday=4）\n",
    "    days_until_friday = (4 - current_weekday) % 7\n",
    "    # 如果今天是周五，则计算下周五\n",
    "    if days_until_friday == 0:\n",
    "        days_until_friday = 7\n",
    "    # 计算下一个周五的日期\n",
    "    next_friday = now + datetime.timedelta(days=days_until_friday)\n",
    "    # 设置时间为0点\n",
    "    next_friday_midnight = datetime.datetime.combine(next_friday.date(), datetime.time.min)\n",
    "    # 转换为时间戳\n",
    "    timestamp = int(time.mktime(next_friday_midnight.timetuple()))\n",
    "    return timestamp\n",
    "\n",
    "# 测试\n",
    "get_next_friday_timestamp()"
   ]
  },
  {
   "cell_type": "code",
   "execution_count": null,
   "id": "3cc6354c-205e-4b1d-ad80-395885247281",
   "metadata": {},
   "outputs": [],
   "source": [
    "def get_club_clash_group(club_member_info):\n",
    "    pass"
   ]
  },
  {
   "cell_type": "code",
   "execution_count": 35,
   "id": "0379d937-9a8c-42ce-a949-335b43d5045e",
   "metadata": {},
   "outputs": [
    {
     "name": "stderr",
     "output_type": "stream",
     "text": [
      "2025-10-15 11:35:29,929 - ERROR - 发生错误: division by zero\n",
      "Traceback (most recent call last):\n",
      "  File \"/tmp/ipykernel_1967600/544463343.py\", line 8, in <module>\n",
      "    result = 1 / 0\n",
      "             ~~^~~\n",
      "ZeroDivisionError: division by zero\n",
      "\n"
     ]
    }
   ],
   "source": [
    "import logging\n",
    "import traceback\n",
    "\n",
    "logging.basicConfig(level=logging.DEBUG)\n",
    "\n",
    "try:\n",
    "    # 可能出错的代码\n",
    "    result = 1 / 0\n",
    "except Exception as e:\n",
    "    # 记录错误信息和完整堆栈跟踪\n",
    "    logging.error(f\"发生错误: {str(e)}\\n{traceback.format_exc()}\")\n"
   ]
  },
  {
   "cell_type": "code",
   "execution_count": null,
   "id": "155f46d1-e036-4a47-8c82-68d3a7261d46",
   "metadata": {},
   "outputs": [],
   "source": [
    "from logging.handlers import TimedRotatingFileHandler"
   ]
  },
  {
   "cell_type": "code",
   "execution_count": 88,
   "id": "aba7b0f0-1ec2-4bb2-a4b6-16e907130cec",
   "metadata": {},
   "outputs": [
    {
     "name": "stdout",
     "output_type": "stream",
     "text": [
      "False\n"
     ]
    }
   ],
   "source": [
    "import base64\n",
    "import zlib\n",
    "start = time.time()\n",
    "data = '{\"1\":[1,[-34,-29,84],[-90,0,0],false,{\"fid\":\"1|6|1|1748412873\"}],\"2\":[1,[-34,-29,33],[-90,0,0],false,{\"fid\":\"1|21|1|1748412873\"}],\"3\":[1,[17,-29,67],[-90,1,0],false,{\"fid\":\"1|14|1|1748412873\"}],\"4\":[1,[17,-29,17],[-90,0,0],false,{\"fid\":\"1|29|1|1748412873\"}],\"5\":[1,[-17,-29,33],[-90,0,0],false,{\"fid\":\"1|22|1|1748412873\"}],\"6\":[1,[34,-29,67],[-90,0,0],false,{\"fid\":\"1|15|1|1748412873\"}],\"7\":[9,[25,-27,58],[-90,0,0],false,{\"fid\":\"9|1|1|1748412873\"}],\"8\":[1,[-34,-29,101],[-90,0,0],false,{\"fid\":\"1|1|1|1748412873\"}],\"9\":[1,[34,-29,17],[-90,0,0],false,{\"fid\":\"1|30|1|1748412873\"}],\"10\":[1,[0,-29,33],[-90,0,0],false,{\"fid\":\"1|23|1|1748412873\"}],\"11\":[1,[-34,-29,50],[-90,0,0],false,{\"fid\":\"1|16|1|1748412873\"}],\"12\":[2,[-34,-26,15],[-90,0,0],false,{\"fid\":\"2|1|1|1748412873\"}],\"13\":[1,[-17,-29,0],[-90,0,0],false,{\"fid\":\"1|31|1|1748412873\"}],\"14\":[1,[-17,-29,101],[-90,0,0],false,{\"fid\":\"1|2|1|1748412873\"}],\"15\":[1,[-17,-29,50],[-90,0,0],false,{\"fid\":\"1|17|1|1748412873\"}],\"16\":[12,[0,-26,82],[-90,0,0],false,{\"fid\":\"12|1|1|1748412873\"}],\"17\":[2,[34,-26,15],[-90,0,0],false,{\"fid\":\"2|5|1|1748412873\"}],\"18\":[2,[17,-26,31],[-90,0,0],false,{\"fid\":\"2|4|1|1748412873\"}],\"19\":[1,[0,-29,0],[-90,0,0],false,{\"fid\":\"1|32|1|1748412873\"}],\"20\":[1,[0,-29,101],[-90,0,0],false,{\"fid\":\"1|3|1|1748412873\"}],\"21\":[1,[0,-29,50],[-90,0,0],false,{\"fid\":\"1|18|1|1748412873\"}],\"22\":[2,[0,-26,48],[-90,0,0],false,{\"fid\":\"2|3|1|1748412873\"}],\"23\":[2,[-17,-26,32],[-90,0,0],false,{\"fid\":\"2|2|1|1748412873\"}],\"24\":[13,[-25,-26,58],[-90,0,0],false,{\"fid\":\"13|1|1|1748412873\"}],\"25\":[10,[0,-25,15],[-90,0,0],false,{\"fid\":\"10|1|1|1748412873\"}],\"26\":[1,[17,-29,-1],[-90,1,0],false,{\"fid\":\"1|33|1|1748412873\"}],\"27\":[1,[17,-29,84],[-90,0,0],false,{\"fid\":\"1|9|1|1748412873\"}],\"28\":[1,[-34,-29,67],[-90,0,0],false,{\"fid\":\"1|11|1|1748412873\"}],\"29\":[1,[17,-29,101],[-90,0,0],false,{\"fid\":\"1|4|1|1748412873\"}],\"30\":[1,[17,-29,50],[-90,0,0],false,{\"fid\":\"1|19|1|1748412873\"}],\"31\":[1,[17,-29,33],[-90,0,0],false,{\"fid\":\"1|24|1|1748412873\"}],\"32\":[1,[-17,-29,84],[-90,0,0],false,{\"fid\":\"1|7|1|1748412873\"}],\"33\":[1,[-34,-29,17],[-90,0,0],false,{\"fid\":\"1|26|1|1748412873\"}],\"34\":[1,[34,-29,101],[-90,0,0],false,{\"fid\":\"1|5|1|1748412873\"}],\"35\":[1,[0,-29,84],[-90,0,0],false,{\"fid\":\"1|8|1|1748412873\"}],\"36\":[1,[34,-29,33],[-90,0,0],false,{\"fid\":\"1|25|1|1748412873\"}],\"37\":[1,[-17,-29,67],[-90,0,0],false,{\"fid\":\"1|12|1|1748412873\"}],\"38\":[1,[-17,-29,17],[-90,0,0],false,{\"fid\":\"1|27|1|1748412873\"}],\"39\":[1,[34,-29,50],[-90,0,0],false,{\"fid\":\"1|20|1|1748412873\"}],\"40\":[1,[0,-29,67],[-90,0,0],false,{\"fid\":\"1|13|1|1748412873\"}],\"41\":[1,[0,-29,17],[-90,0,0],false,{\"fid\":\"1|28|1|1748412873\"}],\"42\":[1,[34,-29,84],[-90,0,0],false,{\"fid\":\"1|10|1|1748412873\"}],\"save_ts\":1748412880,\"modelOffsetY\":5.625}'\n",
    "\n",
    "original_string = data\n",
    "# print(len(original_string))\n",
    "compressed = zlib.compress(original_string.encode())\n",
    "encoded = base64.b64encode(compressed).decode()\n",
    "\n",
    "# print(len(encoded))\n",
    "decoded = zlib.decompress(base64.b64decode(encoded.encode()))\n",
    "print(str(decoded) == data)"
   ]
  },
  {
   "cell_type": "code",
   "execution_count": 75,
   "id": "913fb954-af2a-40de-9962-f2f8dff651e5",
   "metadata": {},
   "outputs": [
    {
     "name": "stdout",
     "output_type": "stream",
     "text": [
      "72\n",
      "b'This is a long string that needs compression...'\n"
     ]
    }
   ],
   "source": [
    "import zlib\n",
    "import base64\n",
    "\n",
    "original_string = \"This is a long string that needs compression...\"\n",
    "compressed = zlib.compress(original_string.encode())\n",
    "encoded = base64.b64encode(compressed).decode()\n",
    "\n",
    "print(len(encoded))\n",
    "decoded = zlib.decompress(base64.b64decode(encoded.encode()))\n",
    "print(decoded)"
   ]
  },
  {
   "cell_type": "code",
   "execution_count": 76,
   "id": "962744ab-4d2d-41ae-a8d0-802cf5286e92",
   "metadata": {},
   "outputs": [
    {
     "data": {
      "text/plain": [
       "74"
      ]
     },
     "execution_count": 76,
     "metadata": {},
     "output_type": "execute_result"
    }
   ],
   "source": [
    "import random\n",
    "\n",
    "random.randint(0, 99)"
   ]
  },
  {
   "cell_type": "code",
   "execution_count": null,
   "id": "d84cda74-1a52-4308-bfb8-f1c69828bd41",
   "metadata": {},
   "outputs": [],
   "source": [
    "club_incry_key:%s:%s\", season, ranking_level"
   ]
  },
  {
   "cell_type": "code",
   "execution_count": 89,
   "id": "734c726c-be2a-45ee-9c93-332d4b3b0b83",
   "metadata": {},
   "outputs": [
    {
     "data": {
      "text/plain": [
       "0"
      ]
     },
     "execution_count": 89,
     "metadata": {},
     "output_type": "execute_result"
    }
   ],
   "source": [
    "134488 % 271 % 2"
   ]
  },
  {
   "cell_type": "code",
   "execution_count": null,
   "id": "98203850-d709-407a-9e15-2bf70e000e77",
   "metadata": {},
   "outputs": [],
   "source": []
  }
 ],
 "metadata": {
  "kernelspec": {
   "display_name": "py3-env",
   "language": "python",
   "name": "py3-env"
  },
  "language_info": {
   "codemirror_mode": {
    "name": "ipython",
    "version": 3
   },
   "file_extension": ".py",
   "mimetype": "text/x-python",
   "name": "python",
   "nbconvert_exporter": "python",
   "pygments_lexer": "ipython3",
   "version": "3.11.2"
  }
 },
 "nbformat": 4,
 "nbformat_minor": 5
}
