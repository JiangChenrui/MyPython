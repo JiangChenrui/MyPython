{
 "cells": [
  {
   "cell_type": "code",
   "execution_count": null,
   "metadata": {},
   "outputs": [],
   "source": [
    "import asyncio\n",
    "\n",
    "# 定义协程\n",
    "async def custom_coroutine():\n",
    "    print(\"运行自定义协程\")\n",
    "    # 等待另一个协程\n",
    "    await asyncio.sleep(1)\n",
    "\n",
    "# 创建协程\n",
    "coro = custom_coroutine()\n",
    "\n",
    "# 运行协程\n",
    "asyncio.run(coro)\n",
    "\n",
    "# 检查协程的类型\n",
    "print(type(coro))"
   ]
  },
  {
   "cell_type": "code",
   "execution_count": 4,
   "metadata": {},
   "outputs": [],
   "source": [
    "import asyncio\n",
    "# 定义协程\n",
    "async def custom_coroutine():\n",
    "    # 等待另一个协程\n",
    "    await asyncio.sleep(1)\n",
    "\n",
    "# 创建协程\n",
    "coro = custom_coroutine()\n",
    "\n",
    "# 从协程创建任务\n",
    "# name参数为设置任务的名称\n",
    "task = asyncio.create_task(coro, name='task')\n",
    "# 也可以用函数设置任务名称\n",
    "task.set_name('MyTask')\n"
   ]
  },
  {
   "cell_type": "code",
   "execution_count": null,
   "metadata": {},
   "outputs": [],
   "source": [
    "import asyncio\n",
    "\n",
    "# 定义一个简单的异步函数\n",
    "async def my_coroutine(name):\n",
    "    print(f\"任务 {name} 开始执行\")\n",
    "    await asyncio.sleep(1)  # 模拟任务的延时\n",
    "    print(f\"任务 {name} 完成\")\n",
    "\n",
    "# 获取事件循环\n",
    "loop = asyncio.get_event_loop()\n",
    "\n",
    "print(\"任务创建之前\")\n",
    "\n",
    "# 创建任务并加入事件循环\n",
    "task = loop.create_task(my_coroutine(\"A\"))\n",
    "print(\"任务创建之后，任务已加入事件循环\")\n",
    "\n",
    "# 运行事件循环，直到任务完成\n",
    "loop.run_until_complete(task)\n",
    "\n",
    "# 关闭事件循环\n",
    "loop.close()\n",
    "\n",
    "print(\"事件循环已关闭\")\n"
   ]
  },
  {
   "cell_type": "code",
   "execution_count": null,
   "metadata": {},
   "outputs": [],
   "source": []
  }
 ],
 "metadata": {
  "kernelspec": {
   "display_name": "base",
   "language": "python",
   "name": "python3"
  },
  "language_info": {
   "codemirror_mode": {
    "name": "ipython",
    "version": 3
   },
   "file_extension": ".py",
   "mimetype": "text/x-python",
   "name": "python",
   "nbconvert_exporter": "python",
   "pygments_lexer": "ipython3",
   "version": "3.9.12"
  }
 },
 "nbformat": 4,
 "nbformat_minor": 2
}
