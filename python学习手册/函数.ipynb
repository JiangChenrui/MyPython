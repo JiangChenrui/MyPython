{
 "cells": [
  {
   "cell_type": "code",
   "execution_count": 1,
   "metadata": {},
   "outputs": [
    {
     "name": "stdout",
     "output_type": "stream",
     "text": [
      "2 3 3 3 2 2 2 2 3 3 3 3 2 3 2 2 3 3 2 3 3 3 3 3 3 2 2 2 3 3 2 3 2 3 3 3 2 3 3 2 2 2 3 2 3 2 3 2 3 2 3 3 2 3 3 2 2 2 2 3 3 3 2 2 3 3 3 2 2 3 2 3 2 2 3 2 3 2 2 2 3 3 3 3 3 2 3 2 3 3 3 2 2 3 2 3 3 3 2 3\n"
     ]
    }
   ],
   "source": [
    "import random\n",
    "for i in range(100):\n",
    "    print random.randint(2,3),"
   ]
  },
  {
   "cell_type": "code",
   "execution_count": 6,
   "metadata": {},
   "outputs": [
    {
     "data": {
      "text/plain": [
       "[{'a': 1}, {'a': 1}, {'a': 1}]"
      ]
     },
     "execution_count": 6,
     "metadata": {},
     "output_type": "execute_result"
    }
   ],
   "source": [
    "l = [{'a': 1}] * 3\n",
    "l"
   ]
  },
  {
   "cell_type": "code",
   "execution_count": null,
   "metadata": {},
   "outputs": [],
   "source": [
    "collect_archer_game = "
   ]
  },
  {
   "cell_type": "code",
   "execution_count": 29,
   "metadata": {},
   "outputs": [
    {
     "name": "stdout",
     "output_type": "stream",
     "text": [
      "1617262387\n"
     ]
    },
    {
     "data": {
      "text/plain": [
       "1617262380"
      ]
     },
     "execution_count": 29,
     "metadata": {},
     "output_type": "execute_result"
    }
   ],
   "source": [
    "import time\n",
    "def get_the_minute():\n",
    "    cur_time = int(time.time())\n",
    "    unit = 60\n",
    "    print cur_time\n",
    "    minute = cur_time - (cur_time % unit)\n",
    "    return minute\n",
    "\n",
    "get_the_minute()"
   ]
  },
  {
   "cell_type": "code",
   "execution_count": null,
   "metadata": {},
   "outputs": [],
   "source": []
  },
  {
   "cell_type": "code",
   "execution_count": null,
   "metadata": {},
   "outputs": [],
   "source": []
  }
 ],
 "metadata": {
  "kernelspec": {
   "display_name": "Python 2",
   "language": "python",
   "name": "python2"
  },
  "language_info": {
   "codemirror_mode": {
    "name": "ipython",
    "version": 2
   },
   "file_extension": ".py",
   "mimetype": "text/x-python",
   "name": "python",
   "nbconvert_exporter": "python",
   "pygments_lexer": "ipython2",
   "version": "2.7.16"
  }
 },
 "nbformat": 4,
 "nbformat_minor": 2
}
