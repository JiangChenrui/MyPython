{
 "cells": [
  {
   "cell_type": "code",
   "execution_count": 1,
   "metadata": {},
   "outputs": [
    {
     "name": "stdout",
     "output_type": "stream",
     "text": [
      "2 3 3 3 2 2 2 2 3 3 3 3 2 3 2 2 3 3 2 3 3 3 3 3 3 2 2 2 3 3 2 3 2 3 3 3 2 3 3 2 2 2 3 2 3 2 3 2 3 2 3 3 2 3 3 2 2 2 2 3 3 3 2 2 3 3 3 2 2 3 2 3 2 2 3 2 3 2 2 2 3 3 3 3 3 2 3 2 3 3 3 2 2 3 2 3 3 3 2 3\n"
     ]
    }
   ],
   "source": [
    "import random\n",
    "for i in range(100):\n",
    "    print random.randint(2,3),"
   ]
  },
  {
   "cell_type": "code",
   "execution_count": 6,
   "metadata": {},
   "outputs": [
    {
     "data": {
      "text/plain": [
       "[{'a': 1}, {'a': 1}, {'a': 1}]"
      ]
     },
     "execution_count": 6,
     "metadata": {},
     "output_type": "execute_result"
    }
   ],
   "source": [
    "l = [{'a': 1}] * 3\n",
    "l"
   ]
  },
  {
   "cell_type": "code",
   "execution_count": null,
   "metadata": {},
   "outputs": [],
   "source": []
  },
  {
   "cell_type": "code",
   "execution_count": null,
   "metadata": {},
   "outputs": [],
   "source": []
  }
 ],
 "metadata": {
  "kernelspec": {
   "display_name": "Python 2",
   "language": "python",
   "name": "python2"
  },
  "language_info": {
   "codemirror_mode": {
    "name": "ipython",
    "version": 2
   },
   "file_extension": ".py",
   "mimetype": "text/x-python",
   "name": "python",
   "nbconvert_exporter": "python",
   "pygments_lexer": "ipython2",
   "version": "2.7.16"
  }
 },
 "nbformat": 4,
 "nbformat_minor": 2
}
